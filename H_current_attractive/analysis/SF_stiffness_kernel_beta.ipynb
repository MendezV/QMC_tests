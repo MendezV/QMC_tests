{
 "cells": [
  {
   "cell_type": "code",
   "execution_count": 41,
   "metadata": {},
   "outputs": [],
   "source": [
    "import numpy as np\n",
    "import matplotlib.pyplot as plt\n",
    "import seaborn as sns\n",
    "import os\n",
    "\n"
   ]
  },
  {
   "cell_type": "markdown",
   "metadata": {},
   "source": []
  },
  {
   "cell_type": "code",
   "execution_count": 42,
   "metadata": {},
   "outputs": [
    {
     "name": "stdout",
     "output_type": "stream",
     "text": [
      "66_betasweeps_2021-06-03-13-29-59\n",
      "88_betasweeps_2021-06-03-16-46-42\n",
      "88_betasweeps_mu002_2021-06-04-01-42-55\n",
      "88_betasweeps_mu005_2021-06-04-01-39-53\n",
      "88_betasweeps_mu01_2021-06-04-01-42-31\n",
      "Betasweeps_2021-06-03-11-21-23\n",
      "Betasweeps_2021-06-03-11-43-57\n",
      "hamchems_beta10_2021-06-03-10-01-39\n",
      "hamchems_beta2_2021-06-03-10-23-36\n",
      "hamchems_beta6_2021-06-03-10-11-33\n",
      "hf66_betasweeps_2021-06-03-15-06-27\n",
      "hfrep66_betasweeps_2021-06-03-15-08-35\n",
      "size_2021-06-02-23-19-03\n",
      "testingcompilation_2021-06-04-11-50-14\n",
      "testingcompilation_2021-06-04-11-54-11\n",
      "testingcompilation_2021-06-04-11-57-39\n",
      "testingcompilation_2021-06-04-11-59-25\n",
      "testingcompilation_2021-06-04-12-01-22\n",
      "testingcompilation_2021-06-04-12-02-08\n",
      "testingcompilation_2021-06-04-12-02-41\n",
      "testingcompilation_2021-06-04-12-03-17\n",
      "testingcompilation_2021-06-04-12-04-03\n",
      "testingcompilation_2021-06-04-12-04-16\n",
      "testingcompilation_2021-06-04-12-55-10\n",
      "\n"
     ]
    }
   ],
   "source": [
    "print(os.popen('ls ../data').read())"
   ]
  },
  {
   "cell_type": "code",
   "execution_count": 43,
   "metadata": {},
   "outputs": [
    {
     "name": "stdout",
     "output_type": "stream",
     "text": [
      "testingcompilation_2021-06-04-12-55-10\n",
      "testingcompilation_\n"
     ]
    }
   ],
   "source": [
    "#path='/home/juan/Programs/ALF/pyALF/Scripts/ALF_data'\n",
    "Options=['SpinZ_tauJ','SpinXY_tauJ','SpinT_tauJ','Green_tauJ','Den_tauJ','Current_tauJ']\n",
    "Options2=['Kin_scalJ','Ener_scalJ','Kin_X_scalJ','Part_scalJ', 'Pot_scalJ']\n",
    "RK=['R','K']\n",
    "LATSZ=[2,4,6,8,10]\n",
    "path_pr='/Users/jfmv/Documents/Proyectos/QMC_tests/H_current_attractive/data/'\n",
    "#path_pr='/home/juan/Documents/Projects/QMC_tests/H_current_attractive/data/'\n",
    "diri=input()\n",
    "print(diri[:-19])\n",
    "path_pr=path_pr+diri+'/'+diri[:-19]\n"
   ]
  },
  {
   "cell_type": "code",
   "execution_count": 44,
   "metadata": {},
   "outputs": [
    {
     "name": "stdout",
     "output_type": "stream",
     "text": [
      "-0.631015 0.002519 1.0 0.0\n",
      "Real... 8 x 8 .... beta= 2\n"
     ]
    },
    {
     "data": {
      "image/png": "[encoded data removed]",
      "text/plain": [
       "<Figure size 432x288 with 1 Axes>"
      ]
     },
     "metadata": {
      "needs_background": "light"
     },
     "output_type": "display_data"
    },
    {
     "name": "stdout",
     "output_type": "stream",
     "text": [
      "-0.675732 0.006241 1.0 0.0\n",
      "Real... 8 x 8 .... beta= 4\n"
     ]
    },
    {
     "data": {
      "image/png": "[encoded data removed]",
      "text/plain": [
       "<Figure size 432x288 with 1 Axes>"
      ]
     },
     "metadata": {
      "needs_background": "light"
     },
     "output_type": "display_data"
    },
    {
     "name": "stdout",
     "output_type": "stream",
     "text": [
      "-0.670415 0.004822 1.0 0.0\n",
      "Real... 8 x 8 .... beta= 6\n"
     ]
    },
    {
     "data": {
      "image/png": "[encoded data removed]",
      "text/plain": [
       "<Figure size 432x288 with 1 Axes>"
      ]
     },
     "metadata": {
      "needs_background": "light"
     },
     "output_type": "display_data"
    },
    {
     "name": "stdout",
     "output_type": "stream",
     "text": [
      "-0.677557 0.003765 1.0 0.0\n",
      "Real... 8 x 8 .... beta= 8\n"
     ]
    },
    {
     "data": {
      "image/png": "[encoded data removed]",
      "text/plain": [
       "<Figure size 432x288 with 1 Axes>"
      ]
     },
     "metadata": {
      "needs_background": "light"
     },
     "output_type": "display_data"
    },
    {
     "name": "stdout",
     "output_type": "stream",
     "text": [
      "-0.67431 0.005295 1.0 0.0\n",
      "Real... 8 x 8 .... beta= 10\n"
     ]
    },
    {
     "data": {
      "image/png": "[encoded data removed]",
      "text/plain": [
       "<Figure size 432x288 with 1 Axes>"
      ]
     },
     "metadata": {
      "needs_background": "light"
     },
     "output_type": "display_data"
    }
   ],
   "source": [
    "\n",
    "\n",
    "val_list=[]\n",
    "err_list=[]\n",
    "sign_list=[]\n",
    "errsign_list=[]\n",
    "\n",
    "\n",
    "for i in LATSZ:\n",
    "    \n",
    "    path=path_pr+str(i)+'/'\n",
    "    \n",
    "    ####################################\n",
    "    ###################################\n",
    "    ##################################\n",
    "    #Scalar observables\n",
    "    ###############################\n",
    "    ###############################\n",
    "    ###############################\n",
    "    \n",
    "    filename=path+Options2[2]\n",
    "    f=open(filename, 'r')\n",
    "\n",
    "    lines=[]\n",
    "    for line in f:\n",
    "        l=[]\n",
    "        l=[i for i in (line.strip()).split()]\n",
    "        lines.append(l)\n",
    "        #print(line,'s')\n",
    "    \n",
    "    \n",
    "    val=float(lines[2][3])\n",
    "    val_err=float(lines[2][4])\n",
    "    sign=float(lines[4][3])\n",
    "    errsign=float(lines[4][4])\n",
    "    \n",
    "    val_list.append(val)\n",
    "    err_list.append(val_err)\n",
    "    sign_list.append(sign)\n",
    "    errsign_list.append(errsign)\n",
    "\n",
    "    print(val,val_err,sign,errsign)\n",
    "    \n",
    "    \n",
    "    ############################\n",
    "    ###########################\n",
    "    ############################\n",
    "    #Current Correlation Function\n",
    "    ###############################\n",
    "    #############################\n",
    "    ###########################\n",
    "    \n",
    "    filename=path+Options[-1]+RK[1]\n",
    "    f=open(filename, 'r')\n",
    "\n",
    "    lines=[]\n",
    "    for line in f:\n",
    "        l=[]\n",
    "        l=[float(i) for i in (line.strip()).split()]\n",
    "        lines.append(l)\n",
    "        #print(line,'s')\n",
    "\n",
    "    ##processing coordinates\n",
    "    xx=np.array(lines)[:,0]\n",
    "    yy=np.array(lines)[:,1]\n",
    "    x=list(set(list(np.array(lines)[:,0])))\n",
    "    y=list(set(list(np.array(lines)[:,1])))\n",
    "    x.sort()\n",
    "    y.sort()\n",
    "    xpl=[round(i,2) for i in x]\n",
    "    ypl=[round(i,2) for i in y]\n",
    "\n",
    "    ## getting values if the correlation functions\n",
    "    real=np.array(lines)[:,2]\n",
    "    realerr=np.array(lines)[:,3]\n",
    "    im=np.array(lines)[:,4]\n",
    "    imerr=np.array(lines)[:,5]\n",
    "    \n",
    "    ###########################\n",
    "    ###########################\n",
    "    ##plots\n",
    "    ##########################\n",
    "    ##########################\n",
    "    \n",
    "    ###############################\n",
    "    ####imgaginary part\n",
    "    \"\"\"\n",
    "    print(\"Imaginary...\",i,\"x\",i)\n",
    "    NL=int(np.sqrt(np.size(xx)))\n",
    "    Npl=np.arange(NL)\n",
    "    imsq=np.reshape(im,[NL,NL])\n",
    "    imerrsq=np.reshape(imerr,[NL,NL])\n",
    "    plt.imshow(imsq.T)\n",
    "    plt.xticks(Npl,xpl)\n",
    "    plt.yticks(Npl,ypl)\n",
    "    plt.show()\n",
    "    \"\"\"\n",
    "    \n",
    "    \"\"\"\n",
    "    i_tr=int(NL/2 -1)\n",
    "    print('kx...',xpl[i_tr])\n",
    "    plt.errorbar(ypl,imsq[i_tr,:],imerrsq[i_tr,:], fmt='o')\n",
    "    plt.show()\n",
    "    \n",
    "    j_tr=int(NL/2 -1)\n",
    "    print('ky...',ypl[j_tr])\n",
    "    plt.errorbar(xpl,imsq[:,j_tr],imerrsq[:,j_tr], fmt='o')\n",
    "    plt.show()\n",
    "    \"\"\"\n",
    "    ###############################\n",
    "    #real part\n",
    "    print(\"Real...\",8,\"x\",8, \".... beta=\",i)\n",
    "    NL=int(np.sqrt(np.size(xx)))\n",
    "    Npl=np.arange(NL)\n",
    "    realsq=np.reshape(real,[NL,NL])\n",
    "    realerrsq=np.reshape(realerr,[NL,NL])\n",
    "    plt.imshow(realsq.T)\n",
    "    plt.xticks(Npl,xpl)\n",
    "    plt.yticks(Npl,ypl)\n",
    "    plt.xlabel(r\"$x$\")\n",
    "    plt.ylabel(r\"$y$\")\n",
    "    plt.show()\n",
    "    \n",
    "    \"\"\"\n",
    "    i_tr=int(NL/2 -1)\n",
    "    print('kx...',xpl[i_tr])\n",
    "    plt.errorbar(ypl,realsq[i_tr,:],realerrsq[i_tr,:], fmt='o')\n",
    "    plt.errorbar(0,-val, val_err, fmt='o')\n",
    "    plt.show()\n",
    "    \n",
    "    j_tr=int(NL/2 -1)\n",
    "    print('ky...',ypl[j_tr])\n",
    "    plt.errorbar(xpl,realsq[:,j_tr],realerrsq[:,j_tr], fmt='o')\n",
    "    plt.errorbar(0,-val, val_err, fmt='o')\n",
    "    plt.show()\n",
    "    \"\"\"\n",
    "    \n",
    "    \n",
    "    "
   ]
  },
  {
   "cell_type": "code",
   "execution_count": 50,
   "metadata": {},
   "outputs": [
    {
     "name": "stdout",
     "output_type": "stream",
     "text": [
      "-0.631015 0.002519 1.0 0.0\n",
      "Real... 4 x 4 ...beta= 2\n",
      "kx... 0.0\n",
      "-0.675732 0.006241 1.0 0.0\n",
      "Real... 4 x 4 ...beta= 4\n",
      "kx... 0.0\n",
      "-0.670415 0.004822 1.0 0.0\n",
      "Real... 4 x 4 ...beta= 6\n",
      "kx... 0.0\n",
      "-0.677557 0.003765 1.0 0.0\n",
      "Real... 4 x 4 ...beta= 8\n",
      "kx... 0.0\n",
      "-0.67431 0.005295 1.0 0.0\n",
      "Real... 4 x 4 ...beta= 10\n",
      "kx... 0.0\n"
     ]
    },
    {
     "data": {
      "image/png": "[encoded data removed]",
      "text/plain": [
       "<Figure size 432x288 with 1 Axes>"
      ]
     },
     "metadata": {
      "needs_background": "light"
     },
     "output_type": "display_data"
    }
   ],
   "source": [
    "\n",
    "\n",
    "val_list=[]\n",
    "err_list=[]\n",
    "sign_list=[]\n",
    "errsign_list=[]\n",
    "rhos=[]\n",
    "rhoerr=[]\n",
    "for i in LATSZ:\n",
    "    \n",
    "    path=path_pr+str(i)+'/'\n",
    "    \n",
    "    ####################################\n",
    "    ###################################\n",
    "    ##################################\n",
    "    #Scalar observables\n",
    "    ###############################\n",
    "    ###############################\n",
    "    ###############################\n",
    "    \n",
    "    filename=path+Options2[2]\n",
    "    f=open(filename, 'r')\n",
    "\n",
    "    lines=[]\n",
    "    for line in f:\n",
    "        l=[]\n",
    "        l=[i for i in (line.strip()).split()]\n",
    "        lines.append(l)\n",
    "        #print(line,'s')\n",
    "    \n",
    "    \n",
    "    val=float(lines[2][3])\n",
    "    val_err=float(lines[2][4])\n",
    "    sign=float(lines[4][3])\n",
    "    errsign=float(lines[4][4])\n",
    "    \n",
    "    val_list.append(val)\n",
    "    err_list.append(val_err)\n",
    "    sign_list.append(sign)\n",
    "    errsign_list.append(errsign)\n",
    "\n",
    "    print(val,val_err,sign,errsign)\n",
    "    \n",
    "    \n",
    "    ############################\n",
    "    ###########################\n",
    "    ############################\n",
    "    #Current Correlation Function\n",
    "    ###############################\n",
    "    #############################\n",
    "    ###########################\n",
    "    \n",
    "    filename=path+Options[-1]+RK[1]\n",
    "    f=open(filename, 'r')\n",
    "\n",
    "    lines=[]\n",
    "    for line in f:\n",
    "        l=[]\n",
    "        l=[float(i) for i in (line.strip()).split()]\n",
    "        lines.append(l)\n",
    "        #print(line,'s')\n",
    "\n",
    "    ##processing coordinates\n",
    "    xx=np.array(lines)[:,0]\n",
    "    yy=np.array(lines)[:,1]\n",
    "    x=list(set(list(np.array(lines)[:,0])))\n",
    "    y=list(set(list(np.array(lines)[:,1])))\n",
    "    x.sort()\n",
    "    y.sort()\n",
    "    xpl=[round(i,2) for i in x]\n",
    "    ypl=[round(i,2) for i in y]\n",
    "\n",
    "    ## getting values if the correlation functions\n",
    "    real=np.array(lines)[:,2]\n",
    "    realerr=np.array(lines)[:,3]\n",
    "    im=np.array(lines)[:,4]\n",
    "    imerr=np.array(lines)[:,5]\n",
    "    \n",
    "    ###########################\n",
    "    ###########################\n",
    "    ##plots\n",
    "    ##########################\n",
    "    ##########################\n",
    "    \n",
    "\n",
    "    ###############################\n",
    "    #real part\n",
    "    print(\"Real...\",4,\"x\",4,\"...beta=\",i)\n",
    "    NL=int(np.sqrt(np.size(xx)))\n",
    "    Npl=np.arange(NL)\n",
    "    realsq=np.reshape(real,[NL,NL])\n",
    "    realerrsq=np.reshape(realerr,[NL,NL])\n",
    "    #plt.imshow(realsq.T)\n",
    "    #plt.xticks(Npl,xpl)\n",
    "    #plt.yticks(Npl,ypl)\n",
    "    #plt.xlabel(r\"$x$\")\n",
    "    #plt.ylabel(r\"$y$\")\n",
    "    #plt.show()\n",
    "    \n",
    "    init=int(NL/2 )\n",
    "    i_tr=int(NL/2 -1)\n",
    "    print('kx...',xpl[i_tr])\n",
    "    #realsq[i_tr,init]=-val\n",
    "    #realerrsq[i_tr,init]=val_err\n",
    "    plt.errorbar(np.array(ypl[init:])*6/(2*np.pi),realsq[i_tr,init:],realerrsq[i_tr,init:], fmt='o-', label=r\"$\\beta=$\"+str(i))\n",
    "    #plt.errorbar(0,-val, val_err, fmt='o')\n",
    "    plt.scatter(ypl[init-1],-val)\n",
    "    rhos.append(-val-realsq[i_tr,init])\n",
    "    rhoerr.append(np.sqrt(val_err**2 +realerrsq[i_tr,init]**2))\n",
    "plt.ylim([0,1.5])\n",
    "plt.legend(fontsize=15,ncol=2)\n",
    "plt.xlim([-0.2,4.2])\n",
    "plt.xlabel(r\"$q_y N_y /2\\pi$\", size=20)\n",
    "plt.ylabel(r\"$\\Lambda_{xx}(qx=0,qy,\\omega_n =0)$\", size=20)\n",
    "plt.show()"
   ]
  },
  {
   "cell_type": "code",
   "execution_count": 51,
   "metadata": {},
   "outputs": [
    {
     "data": {
      "text/plain": [
       "Text(0, 0.5, '$ D_s$')"
      ]
     },
     "execution_count": 51,
     "metadata": {},
     "output_type": "execute_result"
    },
    {
     "data": {
      "image/png": "[encoded data removed]",
      "text/plain": [
       "<Figure size 432x288 with 1 Axes>"
      ]
     },
     "metadata": {
      "needs_background": "light"
     },
     "output_type": "display_data"
    }
   ],
   "source": [
    "plt.errorbar(1/np.array(LATSZ),rhos, rhoerr , fmt='o-')\n",
    "plt.xlabel(r\"$1/\\beta t$\", size=20)\n",
    "plt.ylabel(r\"$ D_s$\", size=20)"
   ]
  },
  {
   "cell_type": "code",
   "execution_count": 53,
   "metadata": {},
   "outputs": [
    {
     "name": "stdout",
     "output_type": "stream",
     "text": [
      "-0.631015 0.002519 1.0 0.0\n",
      "Real... 2 x 2\n",
      "ky... 0.0\n",
      "-0.675732 0.006241 1.0 0.0\n",
      "Real... 4 x 4\n",
      "ky... 0.0\n",
      "-0.670415 0.004822 1.0 0.0\n",
      "Real... 6 x 6\n",
      "ky... 0.0\n",
      "-0.677557 0.003765 1.0 0.0\n",
      "Real... 8 x 8\n",
      "ky... 0.0\n",
      "-0.67431 0.005295 1.0 0.0\n",
      "Real... 10 x 10\n",
      "ky... 0.0\n"
     ]
    },
    {
     "data": {
      "image/png": "[encoded data removed]",
      "text/plain": [
       "<Figure size 432x288 with 1 Axes>"
      ]
     },
     "metadata": {
      "needs_background": "light"
     },
     "output_type": "display_data"
    }
   ],
   "source": [
    "\n",
    "\n",
    "val_list=[]\n",
    "err_list=[]\n",
    "sign_list=[]\n",
    "errsign_list=[]\n",
    "\n",
    "for i in LATSZ:\n",
    "    \n",
    "    path=path_pr+str(i)+'/'\n",
    "    \n",
    "    ####################################\n",
    "    ###################################\n",
    "    ##################################\n",
    "    #Scalar observables\n",
    "    ###############################\n",
    "    ###############################\n",
    "    ###############################\n",
    "    \n",
    "    filename=path+Options2[2]\n",
    "    f=open(filename, 'r')\n",
    "\n",
    "    lines=[]\n",
    "    for line in f:\n",
    "        l=[]\n",
    "        l=[i for i in (line.strip()).split()]\n",
    "        lines.append(l)\n",
    "        #print(line,'s')\n",
    "    \n",
    "    \n",
    "    val=float(lines[2][3])\n",
    "    val_err=float(lines[2][4])\n",
    "    sign=float(lines[4][3])\n",
    "    errsign=float(lines[4][4])\n",
    "    \n",
    "    val_list.append(val)\n",
    "    err_list.append(val_err)\n",
    "    sign_list.append(sign)\n",
    "    errsign_list.append(errsign)\n",
    "\n",
    "    print(val,val_err,sign,errsign)\n",
    "    \n",
    "    \n",
    "    ############################\n",
    "    ###########################\n",
    "    ############################\n",
    "    #Current Correlation Function\n",
    "    ###############################\n",
    "    #############################\n",
    "    ###########################\n",
    "    \n",
    "    filename=path+Options[-1]+RK[1]\n",
    "    f=open(filename, 'r')\n",
    "\n",
    "    lines=[]\n",
    "    for line in f:\n",
    "        l=[]\n",
    "        l=[float(i) for i in (line.strip()).split()]\n",
    "        lines.append(l)\n",
    "        #print(line,'s')\n",
    "\n",
    "    ##processing coordinates\n",
    "    xx=np.array(lines)[:,0]\n",
    "    yy=np.array(lines)[:,1]\n",
    "    x=list(set(list(np.array(lines)[:,0])))\n",
    "    y=list(set(list(np.array(lines)[:,1])))\n",
    "    x.sort()\n",
    "    y.sort()\n",
    "    xpl=[round(i,2) for i in x]\n",
    "    ypl=[round(i,2) for i in y]\n",
    "\n",
    "    ## getting values if the correlation functions\n",
    "    real=np.array(lines)[:,2]\n",
    "    realerr=np.array(lines)[:,3]\n",
    "    im=np.array(lines)[:,4]\n",
    "    imerr=np.array(lines)[:,5]\n",
    "    \n",
    "    ###########################\n",
    "    ###########################\n",
    "    ##plots\n",
    "    ##########################\n",
    "    ##########################\n",
    "    \n",
    "\n",
    "    ###############################\n",
    "    #real part\n",
    "    print(\"Real...\",i,\"x\",i)\n",
    "    NL=int(np.sqrt(np.size(xx)))\n",
    "    Npl=np.arange(NL)\n",
    "    realsq=np.reshape(real,[NL,NL])\n",
    "    realerrsq=np.reshape(realerr,[NL,NL])\n",
    "    #plt.imshow(realsq.T)\n",
    "    #plt.xticks(Npl,xpl)\n",
    "    #plt.yticks(Npl,ypl)\n",
    "    #plt.xlabel(r\"$x$\")\n",
    "    #plt.ylabel(r\"$y$\")\n",
    "    #plt.show()\n",
    "    \n",
    "    init=int(NL/2 )\n",
    "    j_tr=int(NL/2 -1)\n",
    "    print('ky...',ypl[i_tr])\n",
    "    #realsq[i_tr,init]=-val\n",
    "    #realerrsq[i_tr,init]=val_err\n",
    "    plt.errorbar(np.array(xpl[init:])*6/(2*np.pi),realsq[init:,j_tr],realerrsq[init:,j_tr], fmt='o-', label=r\"$\\beta=$\"+str(i))\n",
    "    #plt.errorbar(0,-val, val_err, fmt='o')\n",
    "    plt.scatter(0,-val)\n",
    "plt.ylim([0,1.2])\n",
    "plt.legend(fontsize=15, ncol=2)\n",
    "plt.xlim([-0.2,4.2])\n",
    "plt.xlabel(r\"$q_x N_x /2\\pi$\", size=20)\n",
    "plt.ylabel(r\"$\\Lambda_{xx}(qx,qy=0,\\omega_n =0)$\", size=20)\n",
    "plt.show()\n"
   ]
  },
  {
   "cell_type": "code",
   "execution_count": null,
   "metadata": {},
   "outputs": [],
   "source": []
  },
  {
   "cell_type": "code",
   "execution_count": null,
   "metadata": {},
   "outputs": [],
   "source": []
  },
  {
   "cell_type": "code",
   "execution_count": null,
   "metadata": {},
   "outputs": [],
   "source": []
  }
 ],
 "metadata": {
  "kernelspec": {
   "display_name": "Python 3",
   "language": "python",
   "name": "python3"
  },
  "language_info": {
   "codemirror_mode": {
    "name": "ipython",
    "version": 3
   },
   "file_extension": ".py",
   "mimetype": "text/x-python",
   "name": "python",
   "nbconvert_exporter": "python",
   "pygments_lexer": "ipython3",
   "version": "3.7.4"
  }
 },
 "nbformat": 4,
 "nbformat_minor": 4
}
