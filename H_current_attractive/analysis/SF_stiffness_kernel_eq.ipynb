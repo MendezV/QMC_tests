{
 "cells": [
  {
   "cell_type": "code",
   "execution_count": 4,
   "metadata": {},
   "outputs": [],
   "source": [
    "import numpy as np\n",
    "import matplotlib.pyplot as plt\n",
    "import seaborn as sns\n",
    "import os\n",
    "\n"
   ]
  },
  {
   "cell_type": "markdown",
   "metadata": {},
   "source": []
  },
  {
   "cell_type": "code",
   "execution_count": 16,
   "metadata": {},
   "outputs": [
    {
     "name": "stdout",
     "output_type": "stream",
     "text": [
      "size_2021-06-10-10-42-20\n",
      "size_2021-06-10-10-46-37\n",
      "size_2021-06-10-11-13-43\n",
      "size_2021-06-10-11-15-48\n",
      "\n"
     ]
    }
   ],
   "source": [
    "print(os.popen('ls ../data').read())"
   ]
  },
  {
   "cell_type": "code",
   "execution_count": 21,
   "metadata": {},
   "outputs": [
    {
     "name": "stdout",
     "output_type": "stream",
     "text": [
      "size_2021-06-10-11-15-48\n",
      "size_\n"
     ]
    }
   ],
   "source": [
    "#path='/home/juan/Programs/ALF/pyALF/Scripts/ALF_data'\n",
    "Options=['SpinZ_tauJ','SpinXY_tauJ','SpinT_tauJ','Green_tauJ','Den_tauJ','Current_tauJ']\n",
    "Options2=['Kin_scalJ','Ener_scalJ','Kin_X_scalJ','Part_scalJ', 'Pot_scalJ']\n",
    "Options3=['SpinZ_','SpinXY_','SpinT_','Green_','Den_','Current_']\n",
    "Options4=['SpinZ_eqJ','SpinXY_eqJ','SpinT_eqJ','Green_eqJ','Den_eqJ']\n",
    "RK=['R','K']\n",
    "LATSZ=[6,8,10]\n",
    "path_pr='/Users/jfmv/Documents/Proyectos/QMC_tests/H_current_repulsive/data/'\n",
    "#path_pr='/home/juan/Documents/Projects/QMC_tests/H_current_attractive/data/'\n",
    "diri=input()\n",
    "print(diri[:-19])\n",
    "path_pr=path_pr+diri+'/'+diri[:-19]\n",
    "Nsize=4\n"
   ]
  },
  {
   "cell_type": "code",
   "execution_count": 23,
   "metadata": {},
   "outputs": [
    {
     "data": {
      "image/png": "[encoded data removed]",
      "text/plain": [
       "<Figure size 432x288 with 1 Axes>"
      ]
     },
     "metadata": {
      "needs_background": "light"
     },
     "output_type": "display_data"
    },
    {
     "data": {
      "image/png": "[encoded data removed]",
      "text/plain": [
       "<Figure size 432x288 with 1 Axes>"
      ]
     },
     "metadata": {
      "needs_background": "light"
     },
     "output_type": "display_data"
    },
    {
     "data": {
      "image/png": "[encoded data removed]",
      "text/plain": [
       "<Figure size 432x288 with 1 Axes>"
      ]
     },
     "metadata": {
      "needs_background": "light"
     },
     "output_type": "display_data"
    },
    {
     "data": {
      "image/png": "[encoded data removed]",
      "text/plain": [
       "<Figure size 432x288 with 1 Axes>"
      ]
     },
     "metadata": {
      "needs_background": "light"
     },
     "output_type": "display_data"
    },
    {
     "data": {
      "image/png": "[encoded data removed]",
      "text/plain": [
       "<Figure size 432x288 with 1 Axes>"
      ]
     },
     "metadata": {
      "needs_background": "light"
     },
     "output_type": "display_data"
    },
    {
     "data": {
      "image/png": "[encoded data removed]",
      "text/plain": [
       "<Figure size 432x288 with 1 Axes>"
      ]
     },
     "metadata": {
      "needs_background": "light"
     },
     "output_type": "display_data"
    }
   ],
   "source": [
    "\n",
    "\n",
    "val_list=[]\n",
    "err_list=[]\n",
    "sign_list=[]\n",
    "errsign_list=[]\n",
    "\n",
    "\n",
    "for i in LATSZ:\n",
    "    path=path_pr+str(i)+'/'\n",
    "    filename=path+Options4[-1]+RK[0]\n",
    "    f=open(filename, 'r')\n",
    "\n",
    "    lines=[]\n",
    "    for line in f:\n",
    "        l=[]\n",
    "        l=[float(i) for i in (line.strip()).split()]\n",
    "        lines.append(l)\n",
    "        #print(line,'s')\n",
    "\n",
    "\n",
    "    ##processing coordinates\n",
    "    xx=np.array(lines[::2])[:,0]\n",
    "    yy=np.array(lines[::2])[:,1]\n",
    "    x=list(set(list(np.array(lines[::2])[:,0])))\n",
    "    y=list(set(list(np.array(lines[::2])[:,1])))\n",
    "    x.sort()\n",
    "    y.sort()\n",
    "    xpl=[round(i,3) for i in x]\n",
    "    ypl=[round(i,3) for i in y]\n",
    "\n",
    "    ## getting values if the correlation functions\n",
    "    orbsalph=np.array(lines[1::2])[:,0]\n",
    "    orbsbet=np.array(lines[1::2])[:,1]\n",
    "    real=np.array(lines[1::2])[:,2]\n",
    "    realerr=np.array(lines[1::2])[:,3]\n",
    "    im=np.array(lines[1::2])[:,4]\n",
    "    imerr=np.array(lines[1::2])[:,5]\n",
    "\n",
    "\n",
    "    ##plots\n",
    "\n",
    "    NL=int(np.sqrt(np.size(xx)))\n",
    "    Npl=np.arange(NL)\n",
    "    imsq=np.reshape(im,[NL,NL])\n",
    "    plt.imshow(imsq)\n",
    "    plt.xticks(Npl,xpl)\n",
    "    plt.yticks(Npl,ypl)\n",
    "    plt.show()\n",
    "\n",
    "    NL=int(np.sqrt(np.size(xx)))\n",
    "    Npl=np.arange(NL)\n",
    "    realsq=np.reshape(real,[NL,NL])\n",
    "    plt.imshow(realsq)\n",
    "    plt.xticks(Npl,xpl)\n",
    "    plt.yticks(Npl,ypl)\n",
    "    plt.show()\n"
   ]
  },
  {
   "cell_type": "code",
   "execution_count": 19,
   "metadata": {},
   "outputs": [
    {
     "name": "stdout",
     "output_type": "stream",
     "text": [
      "-0.666912 0.00714 1.0 0.0\n",
      "Real... 6 x 6 ...beta= 6\n",
      "kx... 0.0\n",
      "-0.685998 0.009346 1.0 0.0\n",
      "Real... 6 x 6 ...beta= 8\n",
      "kx... 0.0\n",
      "-0.681602 0.00423 1.0 0.0\n",
      "Real... 8 x 8 ...beta= 10\n",
      "kx... 0.0\n"
     ]
    },
    {
     "data": {
      "image/png": "[encoded data removed]",
      "text/plain": [
       "<Figure size 432x288 with 1 Axes>"
      ]
     },
     "metadata": {
      "needs_background": "light"
     },
     "output_type": "display_data"
    }
   ],
   "source": [
    "\n",
    "\n",
    "val_list=[]\n",
    "err_list=[]\n",
    "sign_list=[]\n",
    "errsign_list=[]\n",
    "rhos=[]\n",
    "rhoerr=[]\n",
    "for i in LATSZ:\n",
    "    \n",
    "    path=path_pr+str(i)+'/'\n",
    "    \n",
    "    ####################################\n",
    "    ###################################\n",
    "    ##################################\n",
    "    #Scalar observables\n",
    "    ###############################\n",
    "    ###############################\n",
    "    ###############################\n",
    "    \n",
    "    filename=path+Options2[2]\n",
    "    f=open(filename, 'r')\n",
    "\n",
    "    lines=[]\n",
    "    for line in f:\n",
    "        l=[]\n",
    "        l=[i for i in (line.strip()).split()]\n",
    "        lines.append(l)\n",
    "        #print(line,'s')\n",
    "    \n",
    "    \n",
    "    val=float(lines[2][3])\n",
    "    val_err=float(lines[2][4])\n",
    "    sign=float(lines[4][3])\n",
    "    errsign=float(lines[4][4])\n",
    "    \n",
    "    val_list.append(val)\n",
    "    err_list.append(val_err)\n",
    "    sign_list.append(sign)\n",
    "    errsign_list.append(errsign)\n",
    "\n",
    "    print(val,val_err,sign,errsign)\n",
    "    \n",
    "    \n",
    "    ############################\n",
    "    ###########################\n",
    "    ############################\n",
    "    #Current Correlation Function\n",
    "    ###############################\n",
    "    #############################\n",
    "    ###########################\n",
    "    \n",
    "    filename=path+Options[-1]+RK[1]\n",
    "    f=open(filename, 'r')\n",
    "\n",
    "    lines=[]\n",
    "    for line in f:\n",
    "        l=[]\n",
    "        l=[float(i) for i in (line.strip()).split()]\n",
    "        lines.append(l)\n",
    "        #print(line,'s')\n",
    "\n",
    "    ##processing coordinates\n",
    "    xx=np.array(lines)[:,0]\n",
    "    yy=np.array(lines)[:,1]\n",
    "    x=list(set(list(np.array(lines)[:,0])))\n",
    "    y=list(set(list(np.array(lines)[:,1])))\n",
    "    x.sort()\n",
    "    y.sort()\n",
    "    xpl=[round(i,2) for i in x]\n",
    "    ypl=[round(i,2) for i in y]\n",
    "\n",
    "    ## getting values if the correlation functions\n",
    "    real=np.array(lines)[:,2]\n",
    "    realerr=np.array(lines)[:,3]\n",
    "    im=np.array(lines)[:,4]\n",
    "    imerr=np.array(lines)[:,5]\n",
    "    \n",
    "    ###########################\n",
    "    ###########################\n",
    "    ##plots\n",
    "    ##########################\n",
    "    ##########################\n",
    "    \n",
    "\n",
    "    ###############################\n",
    "    #real part\n",
    "    print(\"Real...\",NL,\"x\",NL,\"...beta=\",i)\n",
    "    NL=int(np.sqrt(np.size(xx)))\n",
    "    Npl=np.arange(NL)\n",
    "    realsq=np.reshape(real,[NL,NL])\n",
    "    realerrsq=np.reshape(realerr,[NL,NL])\n",
    "    #plt.imshow(realsq.T)\n",
    "    #plt.xticks(Npl,xpl)\n",
    "    #plt.yticks(Npl,ypl)\n",
    "    #plt.xlabel(r\"$x$\")\n",
    "    #plt.ylabel(r\"$y$\")\n",
    "    #plt.show()\n",
    "    \n",
    "    init=int(NL/2 )\n",
    "    i_tr=int(NL/2 -1)\n",
    "    print('kx...',xpl[i_tr])\n",
    "    #realsq[i_tr,init]=-val\n",
    "    #realerrsq[i_tr,init]=val_err\n",
    "    plt.errorbar(np.array(ypl[init:])*NL/(2*np.pi),realsq[i_tr,init:],realerrsq[i_tr,init:], fmt='o-', label=r\"$\\beta=$\"+str(i))\n",
    "    #plt.errorbar(0,-val, val_err, fmt='o')\n",
    "    plt.scatter(ypl[init-1],-val)\n",
    "    rhos.append(-val-realsq[i_tr,init])\n",
    "    rhoerr.append(np.sqrt(val_err**2 +realerrsq[i_tr,init]**2))\n",
    "plt.ylim([0,1.5])\n",
    "plt.legend(fontsize=15,ncol=2)\n",
    "plt.xlim([-0.2,4.2])\n",
    "plt.xlabel(r\"$q_y N_y /2\\pi$\", size=20)\n",
    "plt.ylabel(r\"$\\Lambda_{xx}(qx=0,qy,\\omega_n =0)$\", size=20)\n",
    "plt.show()"
   ]
  },
  {
   "cell_type": "code",
   "execution_count": 119,
   "metadata": {},
   "outputs": [
    {
     "data": {
      "text/plain": [
       "[<matplotlib.lines.Line2D at 0x7fa2cc029810>]"
      ]
     },
     "execution_count": 119,
     "metadata": {},
     "output_type": "execute_result"
    },
    {
     "data": {
      "image/png": "[encoded data removed]",
      "text/plain": [
       "<Figure size 432x288 with 1 Axes>"
      ]
     },
     "metadata": {
      "needs_background": "light"
     },
     "output_type": "display_data"
    }
   ],
   "source": [
    "plt.errorbar(1/np.array(LATSZ),rhos, rhoerr , fmt='o-')\n",
    "plt.xlabel(r\"$1/\\beta t$\", size=20)\n",
    "plt.ylabel(r\"$ D_s$\", size=20)\n",
    "\n",
    "\n",
    "T=np.linspace(0.1,0.5,100)\n",
    "plt.plot(T,2*T/np.pi)\n",
    "\n"
   ]
  },
  {
   "cell_type": "code",
   "execution_count": 120,
   "metadata": {},
   "outputs": [
    {
     "name": "stdout",
     "output_type": "stream",
     "text": [
      "-0.55396 0.003071 1.0 0.0\n",
      "Real... 8 x 8\n",
      "ky... 0.0\n",
      "-0.581495 0.001445 1.0 0.0\n",
      "Real... 8 x 8\n",
      "ky... 0.0\n",
      "-0.589714 0.00158 1.0 0.0\n",
      "Real... 8 x 8\n",
      "ky... 0.0\n",
      "-0.594679 0.00097 1.0 0.0\n",
      "Real... 8 x 8\n",
      "ky... 0.0\n",
      "-0.593078 0.001792 1.0 0.0\n",
      "Real... 8 x 8\n",
      "ky... 0.0\n"
     ]
    },
    {
     "data": {
      "image/png": "[encoded data removed]",
      "text/plain": [
       "<Figure size 432x288 with 1 Axes>"
      ]
     },
     "metadata": {
      "needs_background": "light"
     },
     "output_type": "display_data"
    }
   ],
   "source": [
    "\n",
    "\n",
    "val_list=[]\n",
    "err_list=[]\n",
    "sign_list=[]\n",
    "errsign_list=[]\n",
    "\n",
    "for i in LATSZ:\n",
    "    \n",
    "    path=path_pr+str(i)+'/'\n",
    "    \n",
    "    ####################################\n",
    "    ###################################\n",
    "    ##################################\n",
    "    #Scalar observables\n",
    "    ###############################\n",
    "    ###############################\n",
    "    ###############################\n",
    "    \n",
    "    filename=path+Options2[2]\n",
    "    f=open(filename, 'r')\n",
    "\n",
    "    lines=[]\n",
    "    for line in f:\n",
    "        l=[]\n",
    "        l=[i for i in (line.strip()).split()]\n",
    "        lines.append(l)\n",
    "        #print(line,'s')\n",
    "    \n",
    "    \n",
    "    val=float(lines[2][3])\n",
    "    val_err=float(lines[2][4])\n",
    "    sign=float(lines[4][3])\n",
    "    errsign=float(lines[4][4])\n",
    "    \n",
    "    val_list.append(val)\n",
    "    err_list.append(val_err)\n",
    "    sign_list.append(sign)\n",
    "    errsign_list.append(errsign)\n",
    "\n",
    "    print(val,val_err,sign,errsign)\n",
    "    \n",
    "    \n",
    "    ############################\n",
    "    ###########################\n",
    "    ############################\n",
    "    #Current Correlation Function\n",
    "    ###############################\n",
    "    #############################\n",
    "    ###########################\n",
    "    \n",
    "    filename=path+Options[-1]+RK[1]\n",
    "    f=open(filename, 'r')\n",
    "\n",
    "    lines=[]\n",
    "    for line in f:\n",
    "        l=[]\n",
    "        l=[float(i) for i in (line.strip()).split()]\n",
    "        lines.append(l)\n",
    "        #print(line,'s')\n",
    "\n",
    "    ##processing coordinates\n",
    "    xx=np.array(lines)[:,0]\n",
    "    yy=np.array(lines)[:,1]\n",
    "    x=list(set(list(np.array(lines)[:,0])))\n",
    "    y=list(set(list(np.array(lines)[:,1])))\n",
    "    x.sort()\n",
    "    y.sort()\n",
    "    xpl=[round(i,2) for i in x]\n",
    "    ypl=[round(i,2) for i in y]\n",
    "\n",
    "    ## getting values if the correlation functions\n",
    "    real=np.array(lines)[:,2]\n",
    "    realerr=np.array(lines)[:,3]\n",
    "    im=np.array(lines)[:,4]\n",
    "    imerr=np.array(lines)[:,5]\n",
    "    \n",
    "    ###########################\n",
    "    ###########################\n",
    "    ##plots\n",
    "    ##########################\n",
    "    ##########################\n",
    "    \n",
    "\n",
    "    ###############################\n",
    "    #real part\n",
    "    print(\"Real...\",NL,\"x\",NL)\n",
    "    NL=int(np.sqrt(np.size(xx)))\n",
    "    Npl=np.arange(NL)\n",
    "    realsq=np.reshape(real,[NL,NL])\n",
    "    realerrsq=np.reshape(realerr,[NL,NL])\n",
    "    #plt.imshow(realsq.T)\n",
    "    #plt.xticks(Npl,xpl)\n",
    "    #plt.yticks(Npl,ypl)\n",
    "    #plt.xlabel(r\"$x$\")\n",
    "    #plt.ylabel(r\"$y$\")\n",
    "    #plt.show()\n",
    "    \n",
    "    init=int(NL/2 )\n",
    "    j_tr=int(NL/2 -1)\n",
    "    print('ky...',ypl[i_tr])\n",
    "    #realsq[i_tr,init]=-val\n",
    "    #realerrsq[i_tr,init]=val_err\n",
    "    plt.errorbar(np.array(xpl[init:])*NL/(2*np.pi),realsq[init:,j_tr],realerrsq[init:,j_tr], fmt='o-', label=r\"$\\beta=$\"+str(i))\n",
    "    #plt.errorbar(0,-val, val_err, fmt='o')\n",
    "    plt.scatter(0,-val)\n",
    "plt.ylim([0,1.2])\n",
    "plt.legend(fontsize=15, ncol=2)\n",
    "plt.xlim([-0.2,4.2])\n",
    "plt.xlabel(r\"$q_x N_x /2\\pi$\", size=20)\n",
    "plt.ylabel(r\"$\\Lambda_{xx}(qx,qy=0,\\omega_n =0)$\", size=20)\n",
    "plt.show()\n"
   ]
  },
  {
   "cell_type": "code",
   "execution_count": null,
   "metadata": {},
   "outputs": [],
   "source": []
  },
  {
   "cell_type": "code",
   "execution_count": null,
   "metadata": {},
   "outputs": [],
   "source": []
  },
  {
   "cell_type": "code",
   "execution_count": null,
   "metadata": {},
   "outputs": [],
   "source": []
  }
 ],
 "metadata": {
  "kernelspec": {
   "display_name": "Python 3",
   "language": "python",
   "name": "python3"
  },
  "language_info": {
   "codemirror_mode": {
    "name": "ipython",
    "version": 3
   },
   "file_extension": ".py",
   "mimetype": "text/x-python",
   "name": "python",
   "nbconvert_exporter": "python",
   "pygments_lexer": "ipython3",
   "version": "3.7.4"
  }
 },
 "nbformat": 4,
 "nbformat_minor": 4
}
