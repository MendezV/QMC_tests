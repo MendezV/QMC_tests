{
 "cells": [
  {
   "cell_type": "code",
   "execution_count": 2,
   "metadata": {},
   "outputs": [],
   "source": [
    "import numpy as np\n",
    "import matplotlib.pyplot as plt\n",
    "import seaborn as sns\n",
    "\n"
   ]
  },
  {
   "cell_type": "code",
   "execution_count": 8,
   "metadata": {},
   "outputs": [
    {
     "name": "stdout",
     "output_type": "stream",
     "text": [
      "[ 0.76756726 -0.29305284  0.08725176 -0.07134654  0.04203559 -0.03692927\n",
      "  0.03186121 -0.02654479]\n"
     ]
    },
    {
     "data": {
      "image/png": "[encoded data removed]",
      "text/plain": [
       "<Figure size 432x288 with 1 Axes>"
      ]
     },
     "metadata": {
      "needs_background": "light"
     },
     "output_type": "display_data"
    }
   ],
   "source": [
    "#path='/home/juan/Programs/ALF/pyALF/Scripts/ALF_data'\n",
    "Options=['SpinZ_eqJ','SpinXY_eqJ','SpinT_eqJ','Green_eqJ','Den_eqJ']\n",
    "RK=['R','K']\n",
    "for i in range(1,2):\n",
    "    path='/home/juan/Documents/Projects/QMC_tests/H_Plain_Vanilla/data/Lx_14_Ly_2_ty_2021-05-22-15-33-02/Lx_14_Ly_2_ty_'+str(i)+'/'\n",
    "\n",
    "    filename=path+Options[2]+RK[0]\n",
    "    f=open(filename, 'r')\n",
    "\n",
    "    lines=[]\n",
    "    for line in f:\n",
    "        l=[]\n",
    "        l=[float(i) for i in (line.strip()).split()]\n",
    "        lines.append(l)\n",
    "        #print(line,'s')\n",
    "\n",
    "\n",
    "    ##processing coordinates\n",
    "    xx=np.array(lines[::2])[:,0]\n",
    "    yy=np.array(lines[::2])[:,1]\n",
    "    x=list(set(list(np.array(lines[::2])[:,0])))\n",
    "    y=list(set(list(np.array(lines[::2])[:,1])))\n",
    "    x.sort()\n",
    "    y.sort()\n",
    "    xpl=[round(i,3) for i in x]\n",
    "    ypl=[round(i,3) for i in y]\n",
    "\n",
    "    ## getting values if the correlation functions\n",
    "    orbsalph=np.array(lines[1::2])[:,0]\n",
    "    orbsbet=np.array(lines[1::2])[:,1]\n",
    "    real=np.array(lines[1::2])[:,2]\n",
    "    realerr=np.array(lines[1::2])[:,3]\n",
    "    im=np.array(lines[1::2])[:,4]\n",
    "    imerr=np.array(lines[1::2])[:,5]\n",
    "\n",
    "\n",
    "    ##plots\n",
    "\n",
    "    NLx=14\n",
    "    NLy=2\n",
    "    Nplx=np.arange(NLx)\n",
    "    Nply=np.arange(NLy)\n",
    "    imsq=np.reshape(im,[NLx,NLy])\n",
    "    #plt.imshow(imsq)\n",
    "    #plt.xticks(Nplx,xpl)\n",
    "    #plt.yticks(Nply,ypl)\n",
    "    #plt.show()\n",
    "\n",
    "    NLx=14\n",
    "    NLy=2\n",
    "    Nplx=np.arange(NLx)\n",
    "    Nply=np.arange(NLy)\n",
    "    realsq=np.reshape(real,[NLx,NLy])\n",
    "    #plt.imshow(realsq)\n",
    "    #plt.xticks(Nplx,xpl)\n",
    "    #plt.yticks(Nply,ypl)\n",
    "    #plt.show()\n",
    "    plt.plot(Nplx[6:]-6,realsq.T[0][6:],label=str(i))\n",
    "    plt.scatter(Nplx[6:]-6,realsq.T[0][6:])\n",
    "    print(realsq.T[0][6:])\n",
    "plt.legend()\n",
    "plt.show()"
   ]
  },
  {
   "cell_type": "code",
   "execution_count": null,
   "metadata": {},
   "outputs": [],
   "source": []
  },
  {
   "cell_type": "code",
   "execution_count": 9,
   "metadata": {},
   "outputs": [
    {
     "name": "stdout",
     "output_type": "stream",
     "text": [
      "[ 2.2635727e-01 -6.3522790e-02 -5.4246700e-03 -6.3143000e-04\n",
      " -5.6272000e-04  1.5217000e-04  4.6582000e-04 -8.3724000e-04]\n"
     ]
    },
    {
     "data": {
      "image/png": "[encoded data removed]",
      "text/plain": [
       "<Figure size 432x288 with 1 Axes>"
      ]
     },
     "metadata": {
      "needs_background": "light"
     },
     "output_type": "display_data"
    }
   ],
   "source": [
    "#path='/home/juan/Programs/ALF/pyALF/Scripts/ALF_data'\n",
    "Options=['SpinZ_eqJ','SpinXY_eqJ','SpinT_eqJ','Green_eqJ','Den_eqJ']\n",
    "RK=['R','K']\n",
    "for i in range(1,2):\n",
    "    path='/home/juan/Documents/Projects/QMC_tests/H_Plain_Vanilla/data/attractive_Lx_14_Ly_2_ty_2021-05-23-10-06-20/attractive_Lx_14_Ly_2_ty_'+str(i)+'/'\n",
    "\n",
    "    filename=path+Options[2]+RK[0]\n",
    "    f=open(filename, 'r')\n",
    "\n",
    "    lines=[]\n",
    "    for line in f:\n",
    "        l=[]\n",
    "        l=[float(i) for i in (line.strip()).split()]\n",
    "        lines.append(l)\n",
    "        #print(line,'s')\n",
    "\n",
    "\n",
    "    ##processing coordinates\n",
    "    xx=np.array(lines[::2])[:,0]\n",
    "    yy=np.array(lines[::2])[:,1]\n",
    "    x=list(set(list(np.array(lines[::2])[:,0])))\n",
    "    y=list(set(list(np.array(lines[::2])[:,1])))\n",
    "    x.sort()\n",
    "    y.sort()\n",
    "    xpl=[round(i,3) for i in x]\n",
    "    ypl=[round(i,3) for i in y]\n",
    "\n",
    "    ## getting values if the correlation functions\n",
    "    orbsalph=np.array(lines[1::2])[:,0]\n",
    "    orbsbet=np.array(lines[1::2])[:,1]\n",
    "    real=np.array(lines[1::2])[:,2]\n",
    "    realerr=np.array(lines[1::2])[:,3]\n",
    "    im=np.array(lines[1::2])[:,4]\n",
    "    imerr=np.array(lines[1::2])[:,5]\n",
    "\n",
    "\n",
    "    ##plots\n",
    "\n",
    "    NLx=14\n",
    "    NLy=2\n",
    "    Nplx=np.arange(NLx)\n",
    "    Nply=np.arange(NLy)\n",
    "    imsq=np.reshape(im,[NLx,NLy])\n",
    "    #plt.imshow(imsq)\n",
    "    #plt.xticks(Nplx,xpl)\n",
    "    #plt.yticks(Nply,ypl)\n",
    "    #plt.show()\n",
    "\n",
    "    NLx=14\n",
    "    NLy=2\n",
    "    Nplx=np.arange(NLx)\n",
    "    Nply=np.arange(NLy)\n",
    "    realsq=np.reshape(real,[NLx,NLy])\n",
    "    #plt.imshow(realsq)\n",
    "    #plt.xticks(Nplx,xpl)\n",
    "    #plt.yticks(Nply,ypl)\n",
    "    #plt.show()\n",
    "    plt.plot(Nplx[6:]-6,realsq.T[0][6:],label=str(i))\n",
    "    plt.scatter(Nplx[6:]-6,realsq.T[0][6:])\n",
    "    print(realsq.T[0][6:])\n",
    "plt.legend()\n",
    "plt.show()"
   ]
  },
  {
   "cell_type": "code",
   "execution_count": null,
   "metadata": {},
   "outputs": [],
   "source": []
  }
 ],
 "metadata": {
  "kernelspec": {
   "display_name": "Python 3",
   "language": "python",
   "name": "python3"
  },
  "language_info": {
   "codemirror_mode": {
    "name": "ipython",
    "version": 3
   },
   "file_extension": ".py",
   "mimetype": "text/x-python",
   "name": "python",
   "nbconvert_exporter": "python",
   "pygments_lexer": "ipython3",
   "version": "3.7.6"
  }
 },
 "nbformat": 4,
 "nbformat_minor": 4
}
