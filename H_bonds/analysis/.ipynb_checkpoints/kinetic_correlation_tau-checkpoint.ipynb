{
 "cells": [
  {
   "cell_type": "code",
   "execution_count": 1,
   "metadata": {},
   "outputs": [],
   "source": [
    "import numpy as np\n",
    "import matplotlib.pyplot as plt\n",
    "import seaborn as sns\n",
    "import os\n",
    "\n"
   ]
  },
  {
   "cell_type": "code",
   "execution_count": 2,
   "metadata": {},
   "outputs": [
    {
     "data": {
      "image/png": "[encoded data removed]",
      "text/plain": [
       "<Figure size 432x288 with 1 Axes>"
      ]
     },
     "metadata": {
      "needs_background": "light"
     },
     "output_type": "display_data"
    },
    {
     "data": {
      "image/png": "[encoded data removed]",
      "text/plain": [
       "<Figure size 432x288 with 1 Axes>"
      ]
     },
     "metadata": {
      "needs_background": "light"
     },
     "output_type": "display_data"
    },
    {
     "data": {
      "image/png": "[encoded data removed]",
      "text/plain": [
       "<Figure size 432x288 with 1 Axes>"
      ]
     },
     "metadata": {
      "needs_background": "light"
     },
     "output_type": "display_data"
    },
    {
     "name": "stdout",
     "output_type": "stream",
     "text": [
      "[[-0.37717002  0.00258337  0.01763313]\n",
      " [ 0.01281533  0.13451693 -0.01581488]\n",
      " [ 0.04084676 -0.06789198  0.09942979]]\n"
     ]
    }
   ],
   "source": [
    "#path='/home/juan/Programs/ALF/pyALF/Scripts/ALF_data'\n",
    "Options=['SpinZ_','SpinXY_','SpinT_','Green_','Den_', 'Kinb_']\n",
    "RK=['R','K']\n",
    "for i in [2,5,10]:\n",
    "    path='/Users/jfmv/Documents/Proyectos/QMC_tests/H_bonds/data/my_bonds_tau_2021-05-27-23-58-52/my_bonds_tau_'\n",
    "    path=path+str(i)+'/'\n",
    "\n",
    "    filename=path+'get_names.sh'\n",
    "    f=open(filename, 'w')\n",
    "    f.writelines([\"#!/bin/bash \\n\", \" ls -l \"+path+\"  | grep '^d'|grep '\"+Options[5]+\"' | awk '{print $NF}' > temp.tmp\"])\n",
    "    f.close()\n",
    "    os.system(\"chmod u+x \"+filename)\n",
    "    os.system(\"cd \"+path+\" ;\"+\"./get_names.sh\")\n",
    "\n",
    "    filename=path+'temp.tmp'\n",
    "    f=open(filename, 'r')\n",
    "    lines=[]\n",
    "    for line in f:\n",
    "        lines.append(line.strip())\n",
    "        #print(line,'s')\n",
    "\n",
    "    R0=lines.pop()\n",
    "    f.close()\n",
    "    os.system('rm '+path+'get_names.sh')\n",
    "    os.system('rm '+path+'temp.tmp')\n",
    "\n",
    "    #coords from the titles of the directories\n",
    "    pairs= np.array([i.split('_')[1:] for i in lines], dtype=np.float)\n",
    "    xx=pairs[:,0]\n",
    "    yy=pairs[:,1]\n",
    "    x=list(set(list(xx)))\n",
    "    y=list(set(list(yy)))\n",
    "    x.sort()\n",
    "    y.sort()\n",
    "    xpl=[round(i,3) for i in x]\n",
    "    ypl=[round(i,3) for i in y]\n",
    "\n",
    "    NL=int(np.sqrt(np.size(xx)))\n",
    "\n",
    "    #print(lines)\n",
    "    #print(R0)\n",
    "\n",
    "    Obs_T=[]\n",
    "    Err_T=[]\n",
    "    Proxy=[]\n",
    "    Proxy_err=[]\n",
    "    for line in lines:\n",
    "        #filename=path+line+'/g_dat'\n",
    "        filename=path+line+'/g_'+line[-9:]\n",
    "        f=open(filename, 'r')\n",
    "\n",
    "        li=[]\n",
    "        for lin in f:\n",
    "            l=[]\n",
    "            l=[i for i in (lin.strip()).split()]\n",
    "            li.append(l)\n",
    "            #print(line,'s')\n",
    "        #print(li[0])\n",
    "        \n",
    "        #getting the first line which contains general info:\n",
    "        Nimtimes=int(li[0][0])\n",
    "        EffectiveNbins=int(li[0][1])\n",
    "        beta=float(li[0][2])\n",
    "        Norbitals=int(li[0][3])\n",
    "        #channel=li[0][4]\n",
    "\n",
    "        #getting the contents of g_dat in array form\n",
    "        tau=np.array(li[1:], dtype=np.float)[:,0]\n",
    "        mean=np.array(li[1:], dtype=np.float)[:,1]\n",
    "        err=np.array(li[1:], dtype=np.float)[:,2]\n",
    "        Obs_T.append(mean)\n",
    "        Err_T.append(err)\n",
    "\n",
    "        ind_half_time=np.where(tau==beta/2)[0][0]\n",
    "        Proxy.append(mean[ind_half_time])\n",
    "        Proxy_err.append(err[ind_half_time])\n",
    "\n",
    "    A=np.reshape(np.array(Proxy),[NL,NL])\n",
    "\n",
    "    ###plots\n",
    "    Npl=np.arange(NL)\n",
    "    plt.imshow(A)\n",
    "    plt.xticks(Npl,xpl)\n",
    "    plt.yticks(Npl,ypl)\n",
    "    plt.show()\n",
    "\n",
    "print(A)"
   ]
  },
  {
   "cell_type": "code",
   "execution_count": 3,
   "metadata": {},
   "outputs": [
    {
     "data": {
      "text/plain": [
       "'\\n[[-0.37717002  0.00258337  0.01763313]\\n [ 0.01281533  0.13451693 -0.01581488]\\n [ 0.04084676 -0.06789198  0.09942979]]\\n\\n[[-0.37717002  0.00258337  0.01763313]\\n [ 0.01281533  0.13451693 -0.01581488]\\n [ 0.04084676 -0.06789198  0.09942979]]\\n'"
      ]
     },
     "execution_count": 3,
     "metadata": {},
     "output_type": "execute_result"
    }
   ],
   "source": [
    "\"\"\"\n",
    "[[-0.37717002  0.00258337  0.01763313]\n",
    " [ 0.01281533  0.13451693 -0.01581488]\n",
    " [ 0.04084676 -0.06789198  0.09942979]]\n",
    "\n",
    "[[-0.37717002  0.00258337  0.01763313]\n",
    " [ 0.01281533  0.13451693 -0.01581488]\n",
    " [ 0.04084676 -0.06789198  0.09942979]]\n",
    "\"\"\""
   ]
  },
  {
   "cell_type": "code",
   "execution_count": null,
   "metadata": {},
   "outputs": [],
   "source": []
  },
  {
   "cell_type": "code",
   "execution_count": 4,
   "metadata": {},
   "outputs": [
    {
     "data": {
      "image/png": "[encoded data removed]",
      "text/plain": [
       "<Figure size 432x288 with 1 Axes>"
      ]
     },
     "metadata": {
      "needs_background": "light"
     },
     "output_type": "display_data"
    },
    {
     "data": {
      "image/png": "[encoded data removed]",
      "text/plain": [
       "<Figure size 432x288 with 1 Axes>"
      ]
     },
     "metadata": {
      "needs_background": "light"
     },
     "output_type": "display_data"
    },
    {
     "data": {
      "image/png": "[encoded data removed]",
      "text/plain": [
       "<Figure size 432x288 with 1 Axes>"
      ]
     },
     "metadata": {
      "needs_background": "light"
     },
     "output_type": "display_data"
    },
    {
     "name": "stdout",
     "output_type": "stream",
     "text": [
      "[[-0.37717002  0.00258337  0.01763313]\n",
      " [ 0.01281533  0.13451693 -0.01581488]\n",
      " [ 0.04084676 -0.06789198  0.09942979]]\n"
     ]
    }
   ],
   "source": [
    "\n",
    "#path='/home/juan/Programs/ALF/pyALF/Scripts/ALF_data'\n",
    "Options=['SpinZ_','SpinXY_','SpinT_','Green_','Den_', 'Kinb_']\n",
    "RK=['R','K']\n",
    "for i in [2,5,10]:\n",
    "    path='/Users/jfmv/Documents/Proyectos/QMC_tests/H_bonds/data/S_bonds_tau_2021-05-27-23-56-10/S_bonds_tau_'\n",
    "    path=path+str(i)+'/'\n",
    "\n",
    "    filename=path+'get_names.sh'\n",
    "    f=open(filename, 'w')\n",
    "    f.writelines([\"#!/bin/bash \\n\", \" ls -l \"+path+\"  | grep '^d'|grep '\"+Options[5]+\"' | awk '{print $NF}' > temp.tmp\"])\n",
    "    f.close()\n",
    "    os.system(\"chmod u+x \"+filename)\n",
    "    os.system(\"cd \"+path+\" ;\"+\"./get_names.sh\")\n",
    "\n",
    "    filename=path+'temp.tmp'\n",
    "    f=open(filename, 'r')\n",
    "    lines=[]\n",
    "    for line in f:\n",
    "        lines.append(line.strip())\n",
    "        #print(line,'s')\n",
    "\n",
    "    R0=lines.pop()\n",
    "    f.close()\n",
    "    os.system('rm '+path+'get_names.sh')\n",
    "    os.system('rm '+path+'temp.tmp')\n",
    "\n",
    "    #coords from the titles of the directories\n",
    "    pairs= np.array([i.split('_')[1:] for i in lines], dtype=np.float)\n",
    "    xx=pairs[:,0]\n",
    "    yy=pairs[:,1]\n",
    "    x=list(set(list(xx)))\n",
    "    y=list(set(list(yy)))\n",
    "    x.sort()\n",
    "    y.sort()\n",
    "    xpl=[round(i,3) for i in x]\n",
    "    ypl=[round(i,3) for i in y]\n",
    "\n",
    "    NL=int(np.sqrt(np.size(xx)))\n",
    "\n",
    "    #print(lines)\n",
    "    #print(R0)\n",
    "\n",
    "    Obs_T=[]\n",
    "    Err_T=[]\n",
    "    Proxy=[]\n",
    "    Proxy_err=[]\n",
    "    for line in lines:\n",
    "        #filename=path+line+'/g_dat'\n",
    "        filename=path+line+'/g_'+line[-9:]\n",
    "        f=open(filename, 'r')\n",
    "\n",
    "        li=[]\n",
    "        for lin in f:\n",
    "            l=[]\n",
    "            l=[i for i in (lin.strip()).split()]\n",
    "            li.append(l)\n",
    "            #print(line,'s')\n",
    "        #print(li[0])\n",
    "        \n",
    "        #getting the first line which contains general info:\n",
    "        Nimtimes=int(li[0][0])\n",
    "        EffectiveNbins=int(li[0][1])\n",
    "        beta=float(li[0][2])\n",
    "        Norbitals=int(li[0][3])\n",
    "        #channel=li[0][4]\n",
    "\n",
    "        #getting the contents of g_dat in array form\n",
    "        tau=np.array(li[1:], dtype=np.float)[:,0]\n",
    "        mean=np.array(li[1:], dtype=np.float)[:,1]\n",
    "        err=np.array(li[1:], dtype=np.float)[:,2]\n",
    "        Obs_T.append(mean)\n",
    "        Err_T.append(err)\n",
    "\n",
    "        ind_half_time=np.where(tau==beta/2)[0][0]\n",
    "        Proxy.append(mean[ind_half_time])\n",
    "        Proxy_err.append(err[ind_half_time])\n",
    "\n",
    "    A=np.reshape(np.array(Proxy),[NL,NL])\n",
    "\n",
    "    ###plots\n",
    "    Npl=np.arange(NL)\n",
    "    plt.imshow(A)\n",
    "    plt.xticks(Npl,xpl)\n",
    "    plt.yticks(Npl,ypl)\n",
    "    plt.show()\n",
    "\n",
    "print(A)"
   ]
  },
  {
   "cell_type": "code",
   "execution_count": null,
   "metadata": {},
   "outputs": [],
   "source": [
    "\n"
   ]
  },
  {
   "cell_type": "code",
   "execution_count": null,
   "metadata": {},
   "outputs": [],
   "source": [
    "\n",
    "\n",
    "\n",
    "\n"
   ]
  },
  {
   "cell_type": "code",
   "execution_count": null,
   "metadata": {},
   "outputs": [],
   "source": []
  },
  {
   "cell_type": "code",
   "execution_count": null,
   "metadata": {},
   "outputs": [],
   "source": []
  },
  {
   "cell_type": "code",
   "execution_count": null,
   "metadata": {},
   "outputs": [],
   "source": []
  },
  {
   "cell_type": "code",
   "execution_count": null,
   "metadata": {},
   "outputs": [],
   "source": []
  },
  {
   "cell_type": "code",
   "execution_count": null,
   "metadata": {},
   "outputs": [],
   "source": []
  },
  {
   "cell_type": "code",
   "execution_count": 5,
   "metadata": {},
   "outputs": [
    {
     "data": {
      "image/png": "[encoded data removed]",
      "text/plain": [
       "<Figure size 432x288 with 1 Axes>"
      ]
     },
     "metadata": {
      "needs_background": "light"
     },
     "output_type": "display_data"
    },
    {
     "data": {
      "image/png": "[encoded data removed]",
      "text/plain": [
       "<Figure size 432x288 with 1 Axes>"
      ]
     },
     "metadata": {
      "needs_background": "light"
     },
     "output_type": "display_data"
    },
    {
     "data": {
      "image/png": "[encoded data removed]",
      "text/plain": [
       "<Figure size 432x288 with 1 Axes>"
      ]
     },
     "metadata": {
      "needs_background": "light"
     },
     "output_type": "display_data"
    },
    {
     "data": {
      "image/png": "[encoded data removed]",
      "text/plain": [
       "<Figure size 432x288 with 1 Axes>"
      ]
     },
     "metadata": {
      "needs_background": "light"
     },
     "output_type": "display_data"
    },
    {
     "data": {
      "image/png": "[encoded data removed]",
      "text/plain": [
       "<Figure size 432x288 with 1 Axes>"
      ]
     },
     "metadata": {
      "needs_background": "light"
     },
     "output_type": "display_data"
    },
    {
     "data": {
      "image/png": "[encoded data removed]",
      "text/plain": [
       "<Figure size 432x288 with 1 Axes>"
      ]
     },
     "metadata": {
      "needs_background": "light"
     },
     "output_type": "display_data"
    },
    {
     "name": "stdout",
     "output_type": "stream",
     "text": [
      "[[ 0.0020477   0.00349307  0.00277659 -0.00227256  0.00220411]\n",
      " [ 0.00129764 -0.00197897  0.00053087  0.00401684 -0.00461239]\n",
      " [ 0.00070072  0.00066748  0.00436525 -0.00956262 -0.00039973]\n",
      " [ 0.01057779 -0.00098746 -0.00360362  0.00397947 -0.00084244]\n",
      " [-0.00385697 -0.00195578  0.00219501 -0.00028519  0.00099894]]\n"
     ]
    }
   ],
   "source": [
    "\n",
    "#path='/home/juan/Programs/ALF/pyALF/Scripts/ALF_data'\n",
    "Options=['SpinZ_','SpinXY_','SpinT_','Green_','Den_', 'Kinb_']\n",
    "RK=['R','K']\n",
    "for i in [2,5,8]:\n",
    "    path='/Users/jfmv/Documents/Proyectos/QMC_tests/H_bonds/data/88_bonds_tau_2021-05-28-12-12-35/88_bonds_tau_'\n",
    "    path=path+str(i)+'/'\n",
    "\n",
    "    filename=path+'get_names.sh'\n",
    "    f=open(filename, 'w')\n",
    "    f.writelines([\"#!/bin/bash \\n\", \" ls -l \"+path+\"  | grep '^d'|grep '\"+Options[3]+\"' | awk '{print $NF}' > temp.tmp\"])\n",
    "    f.close()\n",
    "    os.system(\"chmod u+x \"+filename)\n",
    "    os.system(\"cd \"+path+\" ;\"+\"./get_names.sh\")\n",
    "\n",
    "    filename=path+'temp.tmp'\n",
    "    f=open(filename, 'r')\n",
    "    lines=[]\n",
    "    for line in f:\n",
    "        lines.append(line.strip())\n",
    "        #print(line,'s')\n",
    "\n",
    "    R0=lines.pop()\n",
    "    f.close()\n",
    "    os.system('rm '+path+'get_names.sh')\n",
    "    os.system('rm '+path+'temp.tmp')\n",
    "\n",
    "    #coords from the titles of the directories\n",
    "    pairs= np.array([i.split('_')[1:] for i in lines], dtype=np.float)\n",
    "    xx=pairs[:,0]\n",
    "    yy=pairs[:,1]\n",
    "    x=list(set(list(xx)))\n",
    "    y=list(set(list(yy)))\n",
    "    x.sort()\n",
    "    y.sort()\n",
    "    xpl=[round(i,3) for i in x]\n",
    "    ypl=[round(i,3) for i in y]\n",
    "\n",
    "    NL=int(np.sqrt(np.size(xx)))\n",
    "\n",
    "    #print(lines)\n",
    "    #print(R0)\n",
    "\n",
    "    Obs_T=[]\n",
    "    Err_T=[]\n",
    "    Proxy=[]\n",
    "    Proxy_err=[]\n",
    "    for line in lines:\n",
    "        #filename=path+line+'/g_dat'\n",
    "        filename=path+line+'/g_'+line[-9:]\n",
    "        f=open(filename, 'r')\n",
    "\n",
    "        li=[]\n",
    "        for lin in f:\n",
    "            l=[]\n",
    "            l=[i for i in (lin.strip()).split()]\n",
    "            li.append(l)\n",
    "            #print(line,'s')\n",
    "        #print(li[0])\n",
    "        \n",
    "        #getting the first line which contains general info:\n",
    "        Nimtimes=int(li[0][0])\n",
    "        EffectiveNbins=int(li[0][1])\n",
    "        beta=float(li[0][2])\n",
    "        Norbitals=int(li[0][3])\n",
    "        #channel=li[0][4]\n",
    "\n",
    "        #getting the contents of g_dat in array form\n",
    "        tau=np.array(li[1:], dtype=np.float)[:,0]\n",
    "        mean=np.array(li[1:], dtype=np.float)[:,1]\n",
    "        err=np.array(li[1:], dtype=np.float)[:,2]\n",
    "        Obs_T.append(mean)\n",
    "        Err_T.append(err)\n",
    "\n",
    "        ind_half_time=np.where(tau==beta/2)[0][0]\n",
    "        Proxy.append(mean[ind_half_time])\n",
    "        Proxy_err.append(err[ind_half_time])\n",
    "\n",
    "    A=np.reshape(np.array(Proxy),[NL,NL])\n",
    "    S=np.zeros([2*NL,2*NL])\n",
    "    S[NL:,NL:]=A[:,:]\n",
    "    S[:NL,NL:]=A[::-1,:]\n",
    "    S[NL:,:NL]=A[:,::-1]\n",
    "    S[:NL,:NL]=A[::-1,::-1]\n",
    "    ###plots\n",
    "    Npl=np.arange(NL)\n",
    "    plt.imshow(A)\n",
    "    plt.xticks(Npl,xpl)\n",
    "    plt.yticks(Npl,ypl)\n",
    "    plt.show()\n",
    "     #Npl=np.arange(NL)\n",
    "    plt.imshow(S)\n",
    "    #plt.xticks(Npl,xpl)\n",
    "    #plt.yticks(Npl,ypl)\n",
    "    plt.show()\n",
    "\n",
    "print(A)"
   ]
  },
  {
   "cell_type": "code",
   "execution_count": 6,
   "metadata": {},
   "outputs": [
    {
     "data": {
      "image/png": "[encoded data removed]",
      "text/plain": [
       "<Figure size 432x288 with 1 Axes>"
      ]
     },
     "metadata": {
      "needs_background": "light"
     },
     "output_type": "display_data"
    },
    {
     "data": {
      "image/png": "[encoded data removed]",
      "text/plain": [
       "<Figure size 432x288 with 1 Axes>"
      ]
     },
     "metadata": {
      "needs_background": "light"
     },
     "output_type": "display_data"
    },
    {
     "data": {
      "image/png": "[encoded data removed]",
      "text/plain": [
       "<Figure size 432x288 with 1 Axes>"
      ]
     },
     "metadata": {
      "needs_background": "light"
     },
     "output_type": "display_data"
    },
    {
     "data": {
      "image/png": "[encoded data removed]",
      "text/plain": [
       "<Figure size 432x288 with 1 Axes>"
      ]
     },
     "metadata": {
      "needs_background": "light"
     },
     "output_type": "display_data"
    },
    {
     "data": {
      "image/png": "[encoded data removed]",
      "text/plain": [
       "<Figure size 432x288 with 1 Axes>"
      ]
     },
     "metadata": {
      "needs_background": "light"
     },
     "output_type": "display_data"
    },
    {
     "data": {
      "image/png": "[encoded data removed]",
      "text/plain": [
       "<Figure size 432x288 with 1 Axes>"
      ]
     },
     "metadata": {
      "needs_background": "light"
     },
     "output_type": "display_data"
    },
    {
     "name": "stdout",
     "output_type": "stream",
     "text": [
      "[[ 2.05160e-04 -6.28210e-04  1.91760e-04  1.99790e-03]\n",
      " [-1.07493e-03  5.68120e-04  8.19670e-04  1.39948e-03]\n",
      " [-4.67040e-04 -1.18893e-03 -4.73210e-04  1.58080e-04]\n",
      " [-8.97110e-04 -4.09760e-04 -9.97110e-04  5.34000e-05]]\n"
     ]
    }
   ],
   "source": [
    "\n",
    "#path='/home/juan/Programs/ALF/pyALF/Scripts/ALF_data'\n",
    "Options=['SpinZ_','SpinXY_','SpinT_','Green_','Den_', 'Kinb_']\n",
    "RK=['R','K']\n",
    "for i in [2,5,8]:\n",
    "    path='/Users/jfmv/Documents/Proyectos/QMC_tests/H_bonds/data/66_bonds_tau_2021-05-28-12-12-23/66_bonds_tau_'\n",
    "    path=path+str(i)+'/'\n",
    "\n",
    "    filename=path+'get_names.sh'\n",
    "    f=open(filename, 'w')\n",
    "    f.writelines([\"#!/bin/bash \\n\", \" ls -l \"+path+\"  | grep '^d'|grep '\"+Options[3]+\"' | awk '{print $NF}' > temp.tmp\"])\n",
    "    f.close()\n",
    "    os.system(\"chmod u+x \"+filename)\n",
    "    os.system(\"cd \"+path+\" ;\"+\"./get_names.sh\")\n",
    "\n",
    "    filename=path+'temp.tmp'\n",
    "    f=open(filename, 'r')\n",
    "    lines=[]\n",
    "    for line in f:\n",
    "        lines.append(line.strip())\n",
    "        #print(line,'s')\n",
    "\n",
    "    R0=lines.pop()\n",
    "    f.close()\n",
    "    os.system('rm '+path+'get_names.sh')\n",
    "    os.system('rm '+path+'temp.tmp')\n",
    "\n",
    "    #coords from the titles of the directories\n",
    "    pairs= np.array([i.split('_')[1:] for i in lines], dtype=np.float)\n",
    "    xx=pairs[:,0]\n",
    "    yy=pairs[:,1]\n",
    "    x=list(set(list(xx)))\n",
    "    y=list(set(list(yy)))\n",
    "    x.sort()\n",
    "    y.sort()\n",
    "    xpl=[round(i,3) for i in x]\n",
    "    ypl=[round(i,3) for i in y]\n",
    "\n",
    "    NL=int(np.sqrt(np.size(xx)))\n",
    "\n",
    "    #print(lines)\n",
    "    #print(R0)\n",
    "\n",
    "    Obs_T=[]\n",
    "    Err_T=[]\n",
    "    Proxy=[]\n",
    "    Proxy_err=[]\n",
    "    for line in lines:\n",
    "        #filename=path+line+'/g_dat'\n",
    "        filename=path+line+'/g_'+line[-9:]\n",
    "        f=open(filename, 'r')\n",
    "\n",
    "        li=[]\n",
    "        for lin in f:\n",
    "            l=[]\n",
    "            l=[i for i in (lin.strip()).split()]\n",
    "            li.append(l)\n",
    "            #print(line,'s')\n",
    "        #print(li[0])\n",
    "        \n",
    "        #getting the first line which contains general info:\n",
    "        Nimtimes=int(li[0][0])\n",
    "        EffectiveNbins=int(li[0][1])\n",
    "        beta=float(li[0][2])\n",
    "        Norbitals=int(li[0][3])\n",
    "        #channel=li[0][4]\n",
    "\n",
    "        #getting the contents of g_dat in array form\n",
    "        tau=np.array(li[1:], dtype=np.float)[:,0]\n",
    "        mean=np.array(li[1:], dtype=np.float)[:,1]\n",
    "        err=np.array(li[1:], dtype=np.float)[:,2]\n",
    "        Obs_T.append(mean)\n",
    "        Err_T.append(err)\n",
    "\n",
    "        ind_half_time=np.where(tau==beta/2)[0][0]\n",
    "        Proxy.append(mean[ind_half_time])\n",
    "        Proxy_err.append(err[ind_half_time])\n",
    "\n",
    "    A=np.reshape(np.array(Proxy),[NL,NL])\n",
    "    S=np.zeros([2*NL,2*NL])\n",
    "    S[NL:,NL:]=A[:,:]\n",
    "    S[:NL,NL:]=A[::-1,:]\n",
    "    S[NL:,:NL]=A[:,::-1]\n",
    "    S[:NL,:NL]=A[::-1,::-1]\n",
    "    ###plots\n",
    "    Npl=np.arange(NL)\n",
    "    plt.imshow(A)\n",
    "    plt.xticks(Npl,xpl)\n",
    "    plt.yticks(Npl,ypl)\n",
    "    plt.show()\n",
    "     #Npl=np.arange(NL)\n",
    "    plt.imshow(S)\n",
    "    #plt.xticks(Npl,xpl)\n",
    "    #plt.yticks(Npl,ypl)\n",
    "    plt.show()\n",
    "\n",
    "print(A)"
   ]
  },
  {
   "cell_type": "code",
   "execution_count": 9,
   "metadata": {},
   "outputs": [
    {
     "data": {
      "image/png": "[encoded data removed]",
      "text/plain": [
       "<Figure size 432x288 with 1 Axes>"
      ]
     },
     "metadata": {
      "needs_background": "light"
     },
     "output_type": "display_data"
    },
    {
     "data": {
      "image/png": "[encoded data removed]",
      "text/plain": [
       "<Figure size 432x288 with 1 Axes>"
      ]
     },
     "metadata": {
      "needs_background": "light"
     },
     "output_type": "display_data"
    },
    {
     "name": "stdout",
     "output_type": "stream",
     "text": [
      "[[0.25051025 0.01602212 0.18215122 0.21270301 0.0837768  0.15098883]\n",
      " [0.13558299 0.10334954 0.09336099 0.09827936 0.18050809 0.1959621 ]\n",
      " [0.23109805 0.09147411 0.04351469 0.20579598 0.06540559 0.11556935]\n",
      " [0.0685487  0.14329254 0.11840309 0.12293492 0.15522129 0.09624867]\n",
      " [0.16398945 0.05511616 0.09537567 0.20237173 0.11162425 0.23215257]\n",
      " [0.1906587  0.08551174 0.13895605 0.24887257 0.25603091 0.22650079]]\n"
     ]
    }
   ],
   "source": [
    "\n",
    "#path='/home/juan/Programs/ALF/pyALF/Scripts/ALF_data'\n",
    "Options=['SpinZ_','SpinXY_','SpinT_','Green_','Den_', 'Kinb_']\n",
    "RK=['R','K']\n",
    "for i in [2]:\n",
    "    path='/Users/jfmv/Documents/Proyectos/QMC_tests/H_bonds/data/1010_my_bonds_tau_2021-06-01-11-42-15/1010_my_bonds_tau_'\n",
    "    path=path+str(i)+'/'\n",
    "\n",
    "    filename=path+'get_names.sh'\n",
    "    f=open(filename, 'w')\n",
    "    f.writelines([\"#!/bin/bash \\n\", \" ls -l \"+path+\"  | grep '^d'|grep '\"+Options[-1]+\"' | awk '{print $NF}' > temp.tmp\"])\n",
    "    f.close()\n",
    "    os.system(\"chmod u+x \"+filename)\n",
    "    os.system(\"cd \"+path+\" ;\"+\"./get_names.sh\")\n",
    "\n",
    "    filename=path+'temp.tmp'\n",
    "    f=open(filename, 'r')\n",
    "    lines=[]\n",
    "    for line in f:\n",
    "        lines.append(line.strip())\n",
    "        #print(line,'s')\n",
    "\n",
    "    R0=lines.pop()\n",
    "    f.close()\n",
    "    os.system('rm '+path+'get_names.sh')\n",
    "    os.system('rm '+path+'temp.tmp')\n",
    "\n",
    "    #coords from the titles of the directories\n",
    "    pairs= np.array([i.split('_')[1:] for i in lines], dtype=np.float)\n",
    "    xx=pairs[:,0]\n",
    "    yy=pairs[:,1]\n",
    "    x=list(set(list(xx)))\n",
    "    y=list(set(list(yy)))\n",
    "    x.sort()\n",
    "    y.sort()\n",
    "    xpl=[round(i,3) for i in x]\n",
    "    ypl=[round(i,3) for i in y]\n",
    "\n",
    "    NL=int(np.sqrt(np.size(xx)))\n",
    "\n",
    "    #print(lines)\n",
    "    #print(R0)\n",
    "\n",
    "    Obs_T=[]\n",
    "    Err_T=[]\n",
    "    Proxy=[]\n",
    "    Proxy_err=[]\n",
    "    for line in lines:\n",
    "        #filename=path+line+'/g_dat'\n",
    "        filename=path+line+'/g_'+line[-9:]\n",
    "        f=open(filename, 'r')\n",
    "\n",
    "        li=[]\n",
    "        for lin in f:\n",
    "            l=[]\n",
    "            l=[i for i in (lin.strip()).split()]\n",
    "            li.append(l)\n",
    "            #print(line,'s')\n",
    "        #print(li[0])\n",
    "        \n",
    "        #getting the first line which contains general info:\n",
    "        Nimtimes=int(li[0][0])\n",
    "        EffectiveNbins=int(li[0][1])\n",
    "        beta=float(li[0][2])\n",
    "        Norbitals=int(li[0][3])\n",
    "        #channel=li[0][4]\n",
    "\n",
    "        #getting the contents of g_dat in array form\n",
    "        tau=np.array(li[1:], dtype=np.float)[:,0]\n",
    "        mean=np.array(li[1:], dtype=np.float)[:,1]\n",
    "        err=np.array(li[1:], dtype=np.float)[:,2]\n",
    "        Obs_T.append(mean)\n",
    "        Err_T.append(err)\n",
    "\n",
    "        ind_half_time=np.where(tau==beta/2)[0][0]\n",
    "        Proxy.append(mean[ind_half_time])\n",
    "        Proxy_err.append(err[ind_half_time])\n",
    "\n",
    "    A=np.reshape(np.array(Proxy),[NL,NL])\n",
    "    S=np.zeros([2*NL,2*NL])\n",
    "    S[NL:,NL:]=A[:,:]\n",
    "    S[:NL,NL:]=A[::-1,:]\n",
    "    S[NL:,:NL]=A[:,::-1]\n",
    "    S[:NL,:NL]=A[::-1,::-1]\n",
    "    ###plots\n",
    "    Npl=np.arange(NL)\n",
    "    plt.imshow(A)\n",
    "    plt.xticks(Npl,xpl)\n",
    "    plt.yticks(Npl,ypl)\n",
    "    plt.show()\n",
    "     #Npl=np.arange(NL)\n",
    "    plt.imshow(S)\n",
    "    #plt.xticks(Npl,xpl)\n",
    "    #plt.yticks(Npl,ypl)\n",
    "    plt.show()\n",
    "\n",
    "print(A)"
   ]
  },
  {
   "cell_type": "code",
   "execution_count": 10,
   "metadata": {},
   "outputs": [
    {
     "data": {
      "image/png": "[encoded data removed]",
      "text/plain": [
       "<Figure size 432x288 with 1 Axes>"
      ]
     },
     "metadata": {
      "needs_background": "light"
     },
     "output_type": "display_data"
    },
    {
     "data": {
      "image/png": "[encoded data removed]",
      "text/plain": [
       "<Figure size 432x288 with 1 Axes>"
      ]
     },
     "metadata": {
      "needs_background": "light"
     },
     "output_type": "display_data"
    },
    {
     "name": "stdout",
     "output_type": "stream",
     "text": [
      "[[0.25051025 0.01602212 0.18215122 0.21270301 0.0837768  0.15098883]\n",
      " [0.13558299 0.10334954 0.09336099 0.09827936 0.18050809 0.1959621 ]\n",
      " [0.23109805 0.09147411 0.04351469 0.20579598 0.06540559 0.11556935]\n",
      " [0.0685487  0.14329254 0.11840309 0.12293492 0.15522129 0.09624867]\n",
      " [0.16398945 0.05511616 0.09537567 0.20237173 0.11162425 0.23215257]\n",
      " [0.1906587  0.08551174 0.13895605 0.24887257 0.25603091 0.22650079]]\n"
     ]
    }
   ],
   "source": [
    "\n",
    "#path='/home/juan/Programs/ALF/pyALF/Scripts/ALF_data'\n",
    "Options=['SpinZ_','SpinXY_','SpinT_','Green_','Den_', 'Kinb_']\n",
    "RK=['R','K']\n",
    "for i in [2]:\n",
    "    path='/Users/jfmv/Documents/Proyectos/QMC_tests/H_bonds/data/1010_staf_bonds_tau_2021-06-01-11-45-27/1010_staf_bonds_tau_'\n",
    "    path=path+str(i)+'/'\n",
    "\n",
    "    filename=path+'get_names.sh'\n",
    "    f=open(filename, 'w')\n",
    "    f.writelines([\"#!/bin/bash \\n\", \" ls -l \"+path+\"  | grep '^d'|grep '\"+Options[-1]+\"' | awk '{print $NF}' > temp.tmp\"])\n",
    "    f.close()\n",
    "    os.system(\"chmod u+x \"+filename)\n",
    "    os.system(\"cd \"+path+\" ;\"+\"./get_names.sh\")\n",
    "\n",
    "    filename=path+'temp.tmp'\n",
    "    f=open(filename, 'r')\n",
    "    lines=[]\n",
    "    for line in f:\n",
    "        lines.append(line.strip())\n",
    "        #print(line,'s')\n",
    "\n",
    "    R0=lines.pop()\n",
    "    f.close()\n",
    "    os.system('rm '+path+'get_names.sh')\n",
    "    os.system('rm '+path+'temp.tmp')\n",
    "\n",
    "    #coords from the titles of the directories\n",
    "    pairs= np.array([i.split('_')[1:] for i in lines], dtype=np.float)\n",
    "    xx=pairs[:,0]\n",
    "    yy=pairs[:,1]\n",
    "    x=list(set(list(xx)))\n",
    "    y=list(set(list(yy)))\n",
    "    x.sort()\n",
    "    y.sort()\n",
    "    xpl=[round(i,3) for i in x]\n",
    "    ypl=[round(i,3) for i in y]\n",
    "\n",
    "    NL=int(np.sqrt(np.size(xx)))\n",
    "\n",
    "    #print(lines)\n",
    "    #print(R0)\n",
    "\n",
    "    Obs_T=[]\n",
    "    Err_T=[]\n",
    "    Proxy=[]\n",
    "    Proxy_err=[]\n",
    "    for line in lines:\n",
    "        #filename=path+line+'/g_dat'\n",
    "        filename=path+line+'/g_'+line[-9:]\n",
    "        f=open(filename, 'r')\n",
    "\n",
    "        li=[]\n",
    "        for lin in f:\n",
    "            l=[]\n",
    "            l=[i for i in (lin.strip()).split()]\n",
    "            li.append(l)\n",
    "            #print(line,'s')\n",
    "        #print(li[0])\n",
    "        \n",
    "        #getting the first line which contains general info:\n",
    "        Nimtimes=int(li[0][0])\n",
    "        EffectiveNbins=int(li[0][1])\n",
    "        beta=float(li[0][2])\n",
    "        Norbitals=int(li[0][3])\n",
    "        #channel=li[0][4]\n",
    "\n",
    "        #getting the contents of g_dat in array form\n",
    "        tau=np.array(li[1:], dtype=np.float)[:,0]\n",
    "        mean=np.array(li[1:], dtype=np.float)[:,1]\n",
    "        err=np.array(li[1:], dtype=np.float)[:,2]\n",
    "        Obs_T.append(mean)\n",
    "        Err_T.append(err)\n",
    "\n",
    "        ind_half_time=np.where(tau==beta/2)[0][0]\n",
    "        Proxy.append(mean[ind_half_time])\n",
    "        Proxy_err.append(err[ind_half_time])\n",
    "\n",
    "    A=np.reshape(np.array(Proxy),[NL,NL])\n",
    "    S=np.zeros([2*NL,2*NL])\n",
    "    S[NL:,NL:]=A[:,:]\n",
    "    S[:NL,NL:]=A[::-1,:]\n",
    "    S[NL:,:NL]=A[:,::-1]\n",
    "    S[:NL,:NL]=A[::-1,::-1]\n",
    "    ###plots\n",
    "    Npl=np.arange(NL)\n",
    "    plt.imshow(A)\n",
    "    plt.xticks(Npl,xpl)\n",
    "    plt.yticks(Npl,ypl)\n",
    "    plt.show()\n",
    "     #Npl=np.arange(NL)\n",
    "    plt.imshow(S)\n",
    "    #plt.xticks(Npl,xpl)\n",
    "    #plt.yticks(Npl,ypl)\n",
    "    plt.show()\n",
    "\n",
    "print(A)"
   ]
  },
  {
   "cell_type": "code",
   "execution_count": null,
   "metadata": {},
   "outputs": [],
   "source": []
  },
  {
   "cell_type": "code",
   "execution_count": null,
   "metadata": {},
   "outputs": [],
   "source": []
  },
  {
   "cell_type": "code",
   "execution_count": null,
   "metadata": {},
   "outputs": [],
   "source": []
  },
  {
   "cell_type": "code",
   "execution_count": null,
   "metadata": {},
   "outputs": [],
   "source": []
  },
  {
   "cell_type": "code",
   "execution_count": null,
   "metadata": {},
   "outputs": [],
   "source": []
  },
  {
   "cell_type": "code",
   "execution_count": null,
   "metadata": {},
   "outputs": [],
   "source": []
  },
  {
   "cell_type": "code",
   "execution_count": null,
   "metadata": {},
   "outputs": [],
   "source": []
  },
  {
   "cell_type": "code",
   "execution_count": null,
   "metadata": {},
   "outputs": [],
   "source": []
  },
  {
   "cell_type": "code",
   "execution_count": null,
   "metadata": {},
   "outputs": [],
   "source": []
  }
 ],
 "metadata": {
  "kernelspec": {
   "display_name": "Python 3",
   "language": "python",
   "name": "python3"
  },
  "language_info": {
   "codemirror_mode": {
    "name": "ipython",
    "version": 3
   },
   "file_extension": ".py",
   "mimetype": "text/x-python",
   "name": "python",
   "nbconvert_exporter": "python",
   "pygments_lexer": "ipython3",
   "version": "3.7.4"
  }
 },
 "nbformat": 4,
 "nbformat_minor": 4
}
