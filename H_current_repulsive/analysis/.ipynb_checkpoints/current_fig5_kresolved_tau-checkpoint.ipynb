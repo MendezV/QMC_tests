{
 "cells": [
  {
   "cell_type": "code",
   "execution_count": 5,
   "metadata": {},
   "outputs": [],
   "source": [
    "import numpy as np\n",
    "import matplotlib.pyplot as plt\n",
    "import seaborn as sns\n",
    "import os\n",
    "\n"
   ]
  },
  {
   "cell_type": "code",
   "execution_count": null,
   "metadata": {},
   "outputs": [],
   "source": []
  },
  {
   "cell_type": "code",
   "execution_count": null,
   "metadata": {},
   "outputs": [],
   "source": []
  },
  {
   "cell_type": "code",
   "execution_count": null,
   "metadata": {},
   "outputs": [],
   "source": []
  },
  {
   "cell_type": "code",
   "execution_count": null,
   "metadata": {},
   "outputs": [],
   "source": []
  },
  {
   "cell_type": "code",
   "execution_count": null,
   "metadata": {},
   "outputs": [],
   "source": [
    "\n"
   ]
  },
  {
   "cell_type": "code",
   "execution_count": 12,
   "metadata": {},
   "outputs": [],
   "source": [
    "\n"
   ]
  },
  {
   "cell_type": "code",
   "execution_count": 31,
   "metadata": {},
   "outputs": [
    {
     "data": {
      "image/png": "[encoded data removed]",
      "text/plain": [
       "<Figure size 432x288 with 1 Axes>"
      ]
     },
     "metadata": {
      "needs_background": "light"
     },
     "output_type": "display_data"
    },
    {
     "data": {
      "image/png": "[encoded data removed]",
      "text/plain": [
       "<Figure size 432x288 with 1 Axes>"
      ]
     },
     "metadata": {
      "needs_background": "light"
     },
     "output_type": "display_data"
    },
    {
     "data": {
      "image/png": "[encoded data removed]",
      "text/plain": [
       "<Figure size 432x288 with 1 Axes>"
      ]
     },
     "metadata": {
      "needs_background": "light"
     },
     "output_type": "display_data"
    },
    {
     "data": {
      "image/png": "[encoded data removed]",
      "text/plain": [
       "<Figure size 432x288 with 1 Axes>"
      ]
     },
     "metadata": {
      "needs_background": "light"
     },
     "output_type": "display_data"
    },
    {
     "data": {
      "image/png": "[encoded data removed]",
      "text/plain": [
       "<Figure size 432x288 with 1 Axes>"
      ]
     },
     "metadata": {
      "needs_background": "light"
     },
     "output_type": "display_data"
    },
    {
     "data": {
      "image/png": "[encoded data removed]",
      "text/plain": [
       "<Figure size 432x288 with 1 Axes>"
      ]
     },
     "metadata": {
      "needs_background": "light"
     },
     "output_type": "display_data"
    }
   ],
   "source": [
    "\n",
    "#path='/home/juan/Programs/ALF/pyALF/Scripts/ALF_data'\n",
    "Options=['SpinZ_','SpinXY_','SpinT_','Green_','Den_', 'Current_']\n",
    "RK=['R','K']\n",
    "LATSZ=[6,8,10]\n",
    "#path_pr='/Users/jfmv/Documents/Proyectos/QMC_tests/H_current/data/'\n",
    "path_pr='/home/juan/Documents/Projects/QMC_tests/H_current/data/'\n",
    "path_pr=path_pr+'size_2021-06-02-17-26-35/size_'\n",
    "\n",
    "\n",
    "for i in LATSZ:\n",
    "    path=path_pr+str(i)+'/'\n",
    "    os.system('touch '+path+'get_names.sh')\n",
    "    filename=path+'get_names.sh'\n",
    "    f=open(filename, 'w')\n",
    "    f.writelines([\"#!/bin/bash \\n\", \" ls -l \"+path+\"  | grep '^d'|grep '\"+Options[5]+\"' | awk '{print $NF}' > temp.tmp\"])\n",
    "    f.close()\n",
    "    os.system(\"chmod u+x \"+filename)\n",
    "    os.system(\"cd \"+path+\" ;\"+\"./get_names.sh\")\n",
    "\n",
    "    filename=path+'temp.tmp'\n",
    "    f=open(filename, 'r')\n",
    "    lines=[]\n",
    "    for line in f:\n",
    "        lines.append(line.strip())\n",
    "        #print(line,'s')\n",
    "\n",
    "    R0=lines.pop()\n",
    "    f.close()\n",
    "    os.system('rm '+path+'get_names.sh')\n",
    "    os.system('rm '+path+'temp.tmp')\n",
    "\n",
    "    #coords from the titles of the directories\n",
    "    pairs= np.array([i.split('_')[1:] for i in lines], dtype=np.float)\n",
    "    xx=pairs[:,0]\n",
    "    yy=pairs[:,1]\n",
    "    x=list(set(list(xx)))\n",
    "    y=list(set(list(yy)))\n",
    "    x.sort()\n",
    "    y.sort()\n",
    "    xpl=[round(i,3) for i in x]\n",
    "    ypl=[round(i,3) for i in y]\n",
    "\n",
    "    NL=int(np.sqrt(np.size(xx)))\n",
    "\n",
    "    #print(lines)\n",
    "    #print(R0)\n",
    "\n",
    "    Obs_T=[]\n",
    "    Err_T=[]\n",
    "    Proxy=[]\n",
    "    Proxy_err=[]\n",
    "    for line in lines:\n",
    "        #filename=path+line+'/g_dat'\n",
    "        filename=path+line+'/g_'+line[-9:]\n",
    "        f=open(filename, 'r')\n",
    "\n",
    "        li=[]\n",
    "        for lin in f:\n",
    "            l=[]\n",
    "            l=[i for i in (lin.strip()).split()]\n",
    "            li.append(l)\n",
    "            #print(line,'s')\n",
    "        #print(li[0])\n",
    "        \n",
    "        #getting the first line which contains general info:\n",
    "        Nimtimes=int(li[0][0])\n",
    "        EffectiveNbins=int(li[0][1])\n",
    "        beta=float(li[0][2])\n",
    "        Norbitals=int(li[0][3])\n",
    "        #channel=li[0][4]\n",
    "\n",
    "        #getting the contents of g_dat in array form\n",
    "        tau=np.array(li[1:], dtype=np.float)[:,0]\n",
    "        mean=np.array(li[1:], dtype=np.float)[:,1]\n",
    "        err=np.array(li[1:], dtype=np.float)[:,2]\n",
    "        Obs_T.append(mean)\n",
    "        Err_T.append(err)\n",
    "\n",
    "        ind_half_time=np.where(tau==beta/2)[0][0]\n",
    "        Proxy.append(mean[ind_half_time])\n",
    "        Proxy_err.append(err[ind_half_time])\n",
    "\n",
    "    A=np.reshape(np.array(Proxy),[NL,NL])\n",
    "    S=np.zeros([2*NL,2*NL])\n",
    "    S[NL:,NL:]=A[:,:]\n",
    "    S[:NL,NL:]=A[::-1,:]\n",
    "    S[NL:,:NL]=A[:,::-1]\n",
    "    S[:NL,:NL]=A[::-1,::-1]\n",
    "    ###plots\n",
    "    Npl=np.arange(NL)\n",
    "    plt.imshow(A)\n",
    "    plt.xticks(Npl,xpl)\n",
    "    plt.yticks(Npl,ypl)\n",
    "    plt.show()\n",
    "     #Npl=np.arange(NL)\n",
    "    plt.imshow(S)\n",
    "    #plt.xticks(Npl,xpl)\n",
    "    #plt.yticks(Npl,ypl)\n",
    "    plt.show()\n",
    "\n",
    "    #print(np.reshape(xx,[NL,NL]))\n",
    "    #print(np.reshape(yy,[NL,NL]))\n",
    "    #print(np.reshape(xx,[NL,NL])[0,:]) #first index is the same x\n",
    "    #print(np.reshape(yy,[NL,NL])[:,0]) #second index is the same y\n",
    "    #plt.imshow(np.reshape(xx,[NL,NL]))\n",
    "    #plt.show()\n",
    "\n"
   ]
  },
  {
   "cell_type": "code",
   "execution_count": null,
   "metadata": {},
   "outputs": [],
   "source": []
  },
  {
   "cell_type": "code",
   "execution_count": null,
   "metadata": {},
   "outputs": [],
   "source": []
  },
  {
   "cell_type": "code",
   "execution_count": null,
   "metadata": {},
   "outputs": [],
   "source": []
  },
  {
   "cell_type": "code",
   "execution_count": null,
   "metadata": {},
   "outputs": [],
   "source": []
  },
  {
   "cell_type": "code",
   "execution_count": null,
   "metadata": {},
   "outputs": [],
   "source": []
  },
  {
   "cell_type": "code",
   "execution_count": null,
   "metadata": {},
   "outputs": [],
   "source": []
  },
  {
   "cell_type": "code",
   "execution_count": null,
   "metadata": {},
   "outputs": [],
   "source": []
  },
  {
   "cell_type": "code",
   "execution_count": 8,
   "metadata": {},
   "outputs": [
    {
     "data": {
      "image/png": "[encoded data removed]",
      "text/plain": [
       "<Figure size 432x288 with 1 Axes>"
      ]
     },
     "metadata": {
      "needs_background": "light"
     },
     "output_type": "display_data"
    },
    {
     "data": {
      "image/png": "[encoded data removed]",
      "text/plain": [
       "<Figure size 432x288 with 1 Axes>"
      ]
     },
     "metadata": {
      "needs_background": "light"
     },
     "output_type": "display_data"
    },
    {
     "name": "stdout",
     "output_type": "stream",
     "text": [
      "[[ 4.949349e-02  1.270000e-06  5.110000e-06]\n",
      " [-5.500000e-07 -2.470000e-06 -7.000000e-07]\n",
      " [-3.070000e-06 -3.100000e-07  2.630000e-06]]\n"
     ]
    }
   ],
   "source": [
    "\n",
    "#path='/home/juan/Programs/ALF/pyALF/Scripts/ALF_data'\n",
    "Options=['SpinZ_','SpinXY_','SpinT_','Green_','Den_', 'Current_']\n",
    "RK=['R','K']\n",
    "for i in [2]:\n",
    "    path='/Users/jfmv/Documents/Proyectos/QMC_tests/H_current/data/'\n",
    "    path=path+'44_current_test_2021-06-01-13-53-36/44_current_test_'\n",
    "    path=path+str(i)+'/'\n",
    "\n",
    "    filename=path+'get_names.sh'\n",
    "    f=open(filename, 'w')\n",
    "    f.writelines([\"#!/bin/bash \\n\", \" ls -l \"+path+\"  | grep '^d'|grep '\"+Options[5]+\"' | awk '{print $NF}' > temp.tmp\"])\n",
    "    f.close()\n",
    "    os.system(\"chmod u+x \"+filename)\n",
    "    os.system(\"cd \"+path+\" ;\"+\"./get_names.sh\")\n",
    "\n",
    "    filename=path+'temp.tmp'\n",
    "    f=open(filename, 'r')\n",
    "    lines=[]\n",
    "    for line in f:\n",
    "        lines.append(line.strip())\n",
    "        #print(line,'s')\n",
    "\n",
    "    R0=lines.pop()\n",
    "    f.close()\n",
    "    os.system('rm '+path+'get_names.sh')\n",
    "    os.system('rm '+path+'temp.tmp')\n",
    "\n",
    "    #coords from the titles of the directories\n",
    "    pairs= np.array([i.split('_')[1:] for i in lines], dtype=np.float)\n",
    "    xx=pairs[:,0]\n",
    "    yy=pairs[:,1]\n",
    "    x=list(set(list(xx)))\n",
    "    y=list(set(list(yy)))\n",
    "    x.sort()\n",
    "    y.sort()\n",
    "    xpl=[round(i,3) for i in x]\n",
    "    ypl=[round(i,3) for i in y]\n",
    "\n",
    "    NL=int(np.sqrt(np.size(xx)))\n",
    "\n",
    "    #print(lines)\n",
    "    #print(R0)\n",
    "\n",
    "    Obs_T=[]\n",
    "    Err_T=[]\n",
    "    Proxy=[]\n",
    "    Proxy_err=[]\n",
    "    for line in lines:\n",
    "        #filename=path+line+'/g_dat'\n",
    "        filename=path+line+'/g_'+line[-9:]\n",
    "        f=open(filename, 'r')\n",
    "\n",
    "        li=[]\n",
    "        for lin in f:\n",
    "            l=[]\n",
    "            l=[i for i in (lin.strip()).split()]\n",
    "            li.append(l)\n",
    "            #print(line,'s')\n",
    "        #print(li[0])\n",
    "        \n",
    "        #getting the first line which contains general info:\n",
    "        Nimtimes=int(li[0][0])\n",
    "        EffectiveNbins=int(li[0][1])\n",
    "        beta=float(li[0][2])\n",
    "        Norbitals=int(li[0][3])\n",
    "        #channel=li[0][4]\n",
    "\n",
    "        #getting the contents of g_dat in array form\n",
    "        tau=np.array(li[1:], dtype=np.float)[:,0]\n",
    "        mean=np.array(li[1:], dtype=np.float)[:,1]\n",
    "        err=np.array(li[1:], dtype=np.float)[:,2]\n",
    "        Obs_T.append(mean)\n",
    "        Err_T.append(err)\n",
    "\n",
    "        ind_half_time=np.where(tau==beta/2)[0][0]\n",
    "        Proxy.append(mean[ind_half_time])\n",
    "        Proxy_err.append(err[ind_half_time])\n",
    "\n",
    "    A=np.reshape(np.array(Proxy),[NL,NL])\n",
    "    S=np.zeros([2*NL,2*NL])\n",
    "    S[NL:,NL:]=A[:,:]\n",
    "    S[:NL,NL:]=A[::-1,:]\n",
    "    S[NL:,:NL]=A[:,::-1]\n",
    "    S[:NL,:NL]=A[::-1,::-1]\n",
    "    ###plots\n",
    "    Npl=np.arange(NL)\n",
    "    plt.imshow(A)\n",
    "    plt.xticks(Npl,xpl)\n",
    "    plt.yticks(Npl,ypl)\n",
    "    plt.show()\n",
    "     #Npl=np.arange(NL)\n",
    "    plt.imshow(S)\n",
    "    #plt.xticks(Npl,xpl)\n",
    "    #plt.yticks(Npl,ypl)\n",
    "    plt.show()\n",
    "\n",
    "print(A)\n",
    "\n"
   ]
  },
  {
   "cell_type": "code",
   "execution_count": null,
   "metadata": {},
   "outputs": [],
   "source": []
  },
  {
   "cell_type": "code",
   "execution_count": null,
   "metadata": {},
   "outputs": [],
   "source": []
  },
  {
   "cell_type": "code",
   "execution_count": null,
   "metadata": {},
   "outputs": [],
   "source": []
  },
  {
   "cell_type": "code",
   "execution_count": null,
   "metadata": {},
   "outputs": [],
   "source": []
  },
  {
   "cell_type": "code",
   "execution_count": null,
   "metadata": {},
   "outputs": [],
   "source": []
  },
  {
   "cell_type": "code",
   "execution_count": null,
   "metadata": {},
   "outputs": [],
   "source": []
  },
  {
   "cell_type": "code",
   "execution_count": null,
   "metadata": {},
   "outputs": [],
   "source": []
  },
  {
   "cell_type": "code",
   "execution_count": null,
   "metadata": {},
   "outputs": [],
   "source": []
  },
  {
   "cell_type": "code",
   "execution_count": null,
   "metadata": {},
   "outputs": [],
   "source": []
  }
 ],
 "metadata": {
  "kernelspec": {
   "display_name": "Python 3",
   "language": "python",
   "name": "python3"
  },
  "language_info": {
   "codemirror_mode": {
    "name": "ipython",
    "version": 3
   },
   "file_extension": ".py",
   "mimetype": "text/x-python",
   "name": "python",
   "nbconvert_exporter": "python",
   "pygments_lexer": "ipython3",
   "version": "3.7.4"
  }
 },
 "nbformat": 4,
 "nbformat_minor": 4
}
