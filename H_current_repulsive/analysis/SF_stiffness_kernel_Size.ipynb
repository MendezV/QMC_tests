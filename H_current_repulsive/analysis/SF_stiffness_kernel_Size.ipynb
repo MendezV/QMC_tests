{
 "cells": [
  {
   "cell_type": "code",
   "execution_count": 1,
   "metadata": {},
   "outputs": [],
   "source": [
    "import numpy as np\n",
    "import matplotlib.pyplot as plt\n",
    "import seaborn as sns\n",
    "import os\n",
    "\n"
   ]
  },
  {
   "cell_type": "markdown",
   "metadata": {},
   "source": []
  },
  {
   "cell_type": "code",
   "execution_count": 2,
   "metadata": {},
   "outputs": [
    {
     "name": "stdout",
     "output_type": "stream",
     "text": [
      "size_2021-06-10-10-42-20\n",
      "size_2021-06-10-10-46-37\n",
      "\n"
     ]
    }
   ],
   "source": [
    "print(os.popen('ls ../data').read())"
   ]
  },
  {
   "cell_type": "code",
   "execution_count": 13,
   "metadata": {},
   "outputs": [
    {
     "name": "stdout",
     "output_type": "stream",
     "text": [
      "size_2021-06-10-10-46-37\n",
      "size_\n"
     ]
    }
   ],
   "source": [
    "#path='/home/juan/Programs/ALF/pyALF/Scripts/ALF_data'\n",
    "Options=['SpinZ_tauJ','SpinXY_tauJ','SpinT_tauJ','Green_tauJ','Den_tauJ','Current_tauJ']\n",
    "Options2=['Kin_scalJ','Ener_scalJ','Kin_X_scalJ','Part_scalJ', 'Pot_scalJ']\n",
    "RK=['R','K']\n",
    "LATSZ=[6,8,10]\n",
    "path_pr='/Users/jfmv/Documents/Proyectos/QMC_tests/H_current_repulsive/data/'\n",
    "#path_pr='/home/juan/Documents/Projects/QMC_tests/H_current_attractive/data/'\n",
    "diri=input()\n",
    "print(diri[:-19])\n",
    "path_pr=path_pr+diri+'/'+diri[:-19]\n",
    "Nsize=4\n"
   ]
  },
  {
   "cell_type": "code",
   "execution_count": 14,
   "metadata": {},
   "outputs": [
    {
     "name": "stdout",
     "output_type": "stream",
     "text": [
      "-0.677483 0.007772 1.0 0.0\n",
      "Real... 6 x 6 .... beta= 6\n"
     ]
    },
    {
     "data": {
      "image/png": "[encoded data removed]",
      "text/plain": [
       "<Figure size 432x288 with 1 Axes>"
      ]
     },
     "metadata": {
      "needs_background": "light"
     },
     "output_type": "display_data"
    },
    {
     "name": "stdout",
     "output_type": "stream",
     "text": [
      "-0.691727 0.00491 1.0 0.0\n",
      "Real... 8 x 8 .... beta= 8\n"
     ]
    },
    {
     "data": {
      "image/png": "[encoded data removed]",
      "text/plain": [
       "<Figure size 432x288 with 1 Axes>"
      ]
     },
     "metadata": {
      "needs_background": "light"
     },
     "output_type": "display_data"
    },
    {
     "name": "stdout",
     "output_type": "stream",
     "text": [
      "-0.690744 0.006239 1.0 0.0\n",
      "Real... 10 x 10 .... beta= 10\n"
     ]
    },
    {
     "data": {
      "image/png": "[encoded data removed]",
      "text/plain": [
       "<Figure size 432x288 with 1 Axes>"
      ]
     },
     "metadata": {
      "needs_background": "light"
     },
     "output_type": "display_data"
    }
   ],
   "source": [
    "\n",
    "\n",
    "val_list=[]\n",
    "err_list=[]\n",
    "sign_list=[]\n",
    "errsign_list=[]\n",
    "\n",
    "\n",
    "for i in LATSZ:\n",
    "    \n",
    "    path=path_pr+str(i)+'/'\n",
    "    \n",
    "    ####################################\n",
    "    ###################################\n",
    "    ##################################\n",
    "    #Scalar observables\n",
    "    ###############################\n",
    "    ###############################\n",
    "    ###############################\n",
    "    \n",
    "    filename=path+Options2[2]\n",
    "    f=open(filename, 'r')\n",
    "\n",
    "    lines=[]\n",
    "    for line in f:\n",
    "        l=[]\n",
    "        l=[i for i in (line.strip()).split()]\n",
    "        lines.append(l)\n",
    "        #print(line,'s')\n",
    "    \n",
    "    \n",
    "    val=float(lines[2][3])\n",
    "    val_err=float(lines[2][4])\n",
    "    sign=float(lines[4][3])\n",
    "    errsign=float(lines[4][4])\n",
    "    \n",
    "    val_list.append(val)\n",
    "    err_list.append(val_err)\n",
    "    sign_list.append(sign)\n",
    "    errsign_list.append(errsign)\n",
    "\n",
    "    print(val,val_err,sign,errsign)\n",
    "    \n",
    "    \n",
    "    ############################\n",
    "    ###########################\n",
    "    ############################\n",
    "    #Current Correlation Function\n",
    "    ###############################\n",
    "    #############################\n",
    "    ###########################\n",
    "    \n",
    "    filename=path+Options[-1]+RK[1]\n",
    "    f=open(filename, 'r')\n",
    "\n",
    "    lines=[]\n",
    "    for line in f:\n",
    "        l=[]\n",
    "        l=[float(i) for i in (line.strip()).split()]\n",
    "        lines.append(l)\n",
    "        #print(line,'s')\n",
    "\n",
    "    ##processing coordinates\n",
    "    xx=np.array(lines)[:,0]\n",
    "    yy=np.array(lines)[:,1]\n",
    "    x=list(set(list(np.array(lines)[:,0])))\n",
    "    y=list(set(list(np.array(lines)[:,1])))\n",
    "    x.sort()\n",
    "    y.sort()\n",
    "    xpl=[round(i,2) for i in x]\n",
    "    ypl=[round(i,2) for i in y]\n",
    "\n",
    "    ## getting values if the correlation functions\n",
    "    real=np.array(lines)[:,2]\n",
    "    realerr=np.array(lines)[:,3]\n",
    "    im=np.array(lines)[:,4]\n",
    "    imerr=np.array(lines)[:,5]\n",
    "    \n",
    "    ###########################\n",
    "    ###########################\n",
    "    ##plots\n",
    "    ##########################\n",
    "    ##########################\n",
    "    \n",
    "    ###############################\n",
    "    ####imgaginary part\n",
    "    \"\"\"\n",
    "    print(\"Imaginary...\",i,\"x\",i)\n",
    "    NL=int(np.sqrt(np.size(xx)))\n",
    "    Npl=np.arange(NL)\n",
    "    imsq=np.reshape(im,[NL,NL])\n",
    "    imerrsq=np.reshape(imerr,[NL,NL])\n",
    "    plt.imshow(imsq.T)\n",
    "    plt.xticks(Npl,xpl)\n",
    "    plt.yticks(Npl,ypl)\n",
    "    plt.show()\n",
    "    \"\"\"\n",
    "    \n",
    "    \"\"\"\n",
    "    i_tr=int(NL/2 -1)\n",
    "    print('kx...',xpl[i_tr])\n",
    "    plt.errorbar(ypl,imsq[i_tr,:],imerrsq[i_tr,:], fmt='o')\n",
    "    plt.show()\n",
    "    \n",
    "    j_tr=int(NL/2 -1)\n",
    "    print('ky...',ypl[j_tr])\n",
    "    plt.errorbar(xpl,imsq[:,j_tr],imerrsq[:,j_tr], fmt='o')\n",
    "    plt.show()\n",
    "    \"\"\"\n",
    "    ###############################\n",
    "    #real part\n",
    "    NL=int(np.sqrt(np.size(xx)))\n",
    "    print(\"Real...\",NL,\"x\",NL, \".... beta=\",i)\n",
    "    \n",
    "    Npl=np.arange(NL)\n",
    "    realsq=np.reshape(real,[NL,NL])\n",
    "    realerrsq=np.reshape(realerr,[NL,NL])\n",
    "    plt.imshow(realsq.T)\n",
    "    plt.xticks(Npl,xpl)\n",
    "    plt.yticks(Npl,ypl)\n",
    "    plt.xlabel(r\"$x$\")\n",
    "    plt.ylabel(r\"$y$\")\n",
    "    plt.show()\n",
    "    \n",
    "    \"\"\"\n",
    "    i_tr=int(NL/2 -1)\n",
    "    print('kx...',xpl[i_tr])\n",
    "    plt.errorbar(ypl,realsq[i_tr,:],realerrsq[i_tr,:], fmt='o')\n",
    "    plt.errorbar(0,-val, val_err, fmt='o')\n",
    "    plt.show()\n",
    "    \n",
    "    j_tr=int(NL/2 -1)\n",
    "    print('ky...',ypl[j_tr])\n",
    "    plt.errorbar(xpl,realsq[:,j_tr],realerrsq[:,j_tr], fmt='o')\n",
    "    plt.errorbar(0,-val, val_err, fmt='o')\n",
    "    plt.show()\n",
    "    \"\"\"\n",
    "    \n",
    "    \n",
    "    "
   ]
  },
  {
   "cell_type": "code",
   "execution_count": 20,
   "metadata": {},
   "outputs": [
    {
     "name": "stdout",
     "output_type": "stream",
     "text": [
      "-0.677483 0.007772 1.0 0.0\n",
      "Real... 10 x 10 ...beta= 6\n",
      "kx... 0.0\n",
      "-0.691727 0.00491 1.0 0.0\n",
      "Real... 6 x 6 ...beta= 8\n",
      "kx... 0.0\n",
      "-0.690744 0.006239 1.0 0.0\n",
      "Real... 8 x 8 ...beta= 10\n",
      "kx... 0.0\n"
     ]
    },
    {
     "data": {
      "image/png": "[encoded data removed]",
      "text/plain": [
       "<Figure size 432x288 with 1 Axes>"
      ]
     },
     "metadata": {
      "needs_background": "light"
     },
     "output_type": "display_data"
    }
   ],
   "source": [
    "\n",
    "\n",
    "val_list=[]\n",
    "err_list=[]\n",
    "sign_list=[]\n",
    "errsign_list=[]\n",
    "rhos=[]\n",
    "rhoerr=[]\n",
    "for i in LATSZ:\n",
    "    \n",
    "    path=path_pr+str(i)+'/'\n",
    "    \n",
    "    ####################################\n",
    "    ###################################\n",
    "    ##################################\n",
    "    #Scalar observables\n",
    "    ###############################\n",
    "    ###############################\n",
    "    ###############################\n",
    "    \n",
    "    filename=path+Options2[2]\n",
    "    f=open(filename, 'r')\n",
    "\n",
    "    lines=[]\n",
    "    for line in f:\n",
    "        l=[]\n",
    "        l=[i for i in (line.strip()).split()]\n",
    "        lines.append(l)\n",
    "        #print(line,'s')\n",
    "    \n",
    "    \n",
    "    val=float(lines[2][3])\n",
    "    val_err=float(lines[2][4])\n",
    "    sign=float(lines[4][3])\n",
    "    errsign=float(lines[4][4])\n",
    "    \n",
    "    val_list.append(val)\n",
    "    err_list.append(val_err)\n",
    "    sign_list.append(sign)\n",
    "    errsign_list.append(errsign)\n",
    "\n",
    "    print(val,val_err,sign,errsign)\n",
    "    \n",
    "    \n",
    "    ############################\n",
    "    ###########################\n",
    "    ############################\n",
    "    #Current Correlation Function\n",
    "    ###############################\n",
    "    #############################\n",
    "    ###########################\n",
    "    \n",
    "    filename=path+Options[-1]+RK[1]\n",
    "    f=open(filename, 'r')\n",
    "\n",
    "    lines=[]\n",
    "    for line in f:\n",
    "        l=[]\n",
    "        l=[float(i) for i in (line.strip()).split()]\n",
    "        lines.append(l)\n",
    "        #print(line,'s')\n",
    "\n",
    "    ##processing coordinates\n",
    "    xx=np.array(lines)[:,0]\n",
    "    yy=np.array(lines)[:,1]\n",
    "    x=list(set(list(np.array(lines)[:,0])))\n",
    "    y=list(set(list(np.array(lines)[:,1])))\n",
    "    x.sort()\n",
    "    y.sort()\n",
    "    xpl=[round(i,2) for i in x]\n",
    "    ypl=[round(i,2) for i in y]\n",
    "\n",
    "    ## getting values if the correlation functions\n",
    "    real=np.array(lines)[:,2]\n",
    "    realerr=np.array(lines)[:,3]\n",
    "    im=np.array(lines)[:,4]\n",
    "    imerr=np.array(lines)[:,5]\n",
    "    \n",
    "    ###########################\n",
    "    ###########################\n",
    "    ##plots\n",
    "    ##########################\n",
    "    ##########################\n",
    "    \n",
    "\n",
    "    ###############################\n",
    "    #real part\n",
    "    print(\"Real...\",NL,\"x\",NL,\"...beta=\",i)\n",
    "    NL=int(np.sqrt(np.size(xx)))\n",
    "    Npl=np.arange(NL)\n",
    "    realsq=np.reshape(real,[NL,NL])\n",
    "    realerrsq=np.reshape(realerr,[NL,NL])\n",
    "    #plt.imshow(realsq.T)\n",
    "    #plt.xticks(Npl,xpl)\n",
    "    #plt.yticks(Npl,ypl)\n",
    "    #plt.xlabel(r\"$x$\")\n",
    "    #plt.ylabel(r\"$y$\")\n",
    "    #plt.show()\n",
    "    \n",
    "    init=int(NL/2 )\n",
    "    i_tr=int(NL/2 -1)\n",
    "    print('kx...',xpl[i_tr])\n",
    "    #realsq[i_tr,init]=-val\n",
    "    #realerrsq[i_tr,init]=val_err\n",
    "    plt.errorbar(np.array(ypl[init:])*NL/(2*np.pi),realsq[i_tr,init:],realerrsq[i_tr,init:], fmt='o-', label=r\"$L=$\"+str(i))\n",
    "    #plt.errorbar(0,-val, val_err, fmt='o')\n",
    "    plt.scatter(ypl[init-1],-val)\n",
    "    rhos.append(-val-realsq[i_tr,init])\n",
    "    rhoerr.append(np.sqrt(val_err**2 +realerrsq[i_tr,init]**2))\n",
    "plt.ylim([0,1.5])\n",
    "plt.legend(fontsize=15,ncol=2)\n",
    "plt.xlim([-0.2,4.2])\n",
    "plt.xlabel(r\"$q_y N_y /2\\pi$\", size=20)\n",
    "plt.ylabel(r\"$\\Lambda_{xx}(qx=0,qy,\\omega_n =0)$\", size=20)\n",
    "plt.show()"
   ]
  },
  {
   "cell_type": "code",
   "execution_count": 21,
   "metadata": {},
   "outputs": [
    {
     "data": {
      "image/png": "[encoded data removed]",
      "text/plain": [
       "<Figure size 432x288 with 1 Axes>"
      ]
     },
     "metadata": {
      "needs_background": "light"
     },
     "output_type": "display_data"
    }
   ],
   "source": [
    "plt.errorbar(1/np.array(LATSZ),rhos, rhoerr , fmt='o-')\n",
    "plt.xlabel(r\"$1/\\beta t$\", size=20)\n",
    "plt.ylabel(r\"$ D_s$\", size=20)\n",
    "\n",
    "\n",
    "T=np.linspace(0.1,0.5,100)\n",
    "#plt.plot(T,2*T/np.pi)\n",
    "\n"
   ]
  },
  {
   "cell_type": "code",
   "execution_count": 22,
   "metadata": {},
   "outputs": [
    {
     "name": "stdout",
     "output_type": "stream",
     "text": [
      "-0.677483 0.007772 1.0 0.0\n",
      "Real... 10 x 10\n",
      "ky... 2.09\n",
      "-0.691727 0.00491 1.0 0.0\n",
      "Real... 6 x 6\n",
      "ky... 0.79\n",
      "-0.690744 0.006239 1.0 0.0\n",
      "Real... 8 x 8\n",
      "ky... 0.0\n"
     ]
    },
    {
     "data": {
      "image/png": "[encoded data removed]",
      "text/plain": [
       "<Figure size 432x288 with 1 Axes>"
      ]
     },
     "metadata": {
      "needs_background": "light"
     },
     "output_type": "display_data"
    }
   ],
   "source": [
    "\n",
    "\n",
    "val_list=[]\n",
    "err_list=[]\n",
    "sign_list=[]\n",
    "errsign_list=[]\n",
    "\n",
    "for i in LATSZ:\n",
    "    \n",
    "    path=path_pr+str(i)+'/'\n",
    "    \n",
    "    ####################################\n",
    "    ###################################\n",
    "    ##################################\n",
    "    #Scalar observables\n",
    "    ###############################\n",
    "    ###############################\n",
    "    ###############################\n",
    "    \n",
    "    filename=path+Options2[2]\n",
    "    f=open(filename, 'r')\n",
    "\n",
    "    lines=[]\n",
    "    for line in f:\n",
    "        l=[]\n",
    "        l=[i for i in (line.strip()).split()]\n",
    "        lines.append(l)\n",
    "        #print(line,'s')\n",
    "    \n",
    "    \n",
    "    val=float(lines[2][3])\n",
    "    val_err=float(lines[2][4])\n",
    "    sign=float(lines[4][3])\n",
    "    errsign=float(lines[4][4])\n",
    "    \n",
    "    val_list.append(val)\n",
    "    err_list.append(val_err)\n",
    "    sign_list.append(sign)\n",
    "    errsign_list.append(errsign)\n",
    "\n",
    "    print(val,val_err,sign,errsign)\n",
    "    \n",
    "    \n",
    "    ############################\n",
    "    ###########################\n",
    "    ############################\n",
    "    #Current Correlation Function\n",
    "    ###############################\n",
    "    #############################\n",
    "    ###########################\n",
    "    \n",
    "    filename=path+Options[-1]+RK[1]\n",
    "    f=open(filename, 'r')\n",
    "\n",
    "    lines=[]\n",
    "    for line in f:\n",
    "        l=[]\n",
    "        l=[float(i) for i in (line.strip()).split()]\n",
    "        lines.append(l)\n",
    "        #print(line,'s')\n",
    "\n",
    "    ##processing coordinates\n",
    "    xx=np.array(lines)[:,0]\n",
    "    yy=np.array(lines)[:,1]\n",
    "    x=list(set(list(np.array(lines)[:,0])))\n",
    "    y=list(set(list(np.array(lines)[:,1])))\n",
    "    x.sort()\n",
    "    y.sort()\n",
    "    xpl=[round(i,2) for i in x]\n",
    "    ypl=[round(i,2) for i in y]\n",
    "\n",
    "    ## getting values if the correlation functions\n",
    "    real=np.array(lines)[:,2]\n",
    "    realerr=np.array(lines)[:,3]\n",
    "    im=np.array(lines)[:,4]\n",
    "    imerr=np.array(lines)[:,5]\n",
    "    \n",
    "    ###########################\n",
    "    ###########################\n",
    "    ##plots\n",
    "    ##########################\n",
    "    ##########################\n",
    "    \n",
    "\n",
    "    ###############################\n",
    "    #real part\n",
    "    print(\"Real...\",NL,\"x\",NL)\n",
    "    NL=int(np.sqrt(np.size(xx)))\n",
    "    Npl=np.arange(NL)\n",
    "    realsq=np.reshape(real,[NL,NL])\n",
    "    realerrsq=np.reshape(realerr,[NL,NL])\n",
    "    #plt.imshow(realsq.T)\n",
    "    #plt.xticks(Npl,xpl)\n",
    "    #plt.yticks(Npl,ypl)\n",
    "    #plt.xlabel(r\"$x$\")\n",
    "    #plt.ylabel(r\"$y$\")\n",
    "    #plt.show()\n",
    "    \n",
    "    init=int(NL/2 )\n",
    "    j_tr=int(NL/2 -1)\n",
    "    print('ky...',ypl[i_tr])\n",
    "    #realsq[i_tr,init]=-val\n",
    "    #realerrsq[i_tr,init]=val_err\n",
    "    plt.errorbar(np.array(xpl[init:])*NL/(2*np.pi),realsq[init:,j_tr],realerrsq[init:,j_tr], fmt='o-', label=r\"$L=$\"+str(i))\n",
    "    #plt.errorbar(0,-val, val_err, fmt='o')\n",
    "    plt.scatter(0,-val)\n",
    "plt.ylim([0,1.2])\n",
    "plt.legend(fontsize=15, ncol=2)\n",
    "plt.xlim([-0.2,4.2])\n",
    "plt.xlabel(r\"$q_x N_x /2\\pi$\", size=20)\n",
    "plt.ylabel(r\"$\\Lambda_{xx}(qx,qy=0,\\omega_n =0)$\", size=20)\n",
    "plt.show()\n"
   ]
  },
  {
   "cell_type": "code",
   "execution_count": null,
   "metadata": {},
   "outputs": [],
   "source": []
  },
  {
   "cell_type": "code",
   "execution_count": null,
   "metadata": {},
   "outputs": [],
   "source": []
  },
  {
   "cell_type": "code",
   "execution_count": null,
   "metadata": {},
   "outputs": [],
   "source": []
  }
 ],
 "metadata": {
  "kernelspec": {
   "display_name": "Python 3",
   "language": "python",
   "name": "python3"
  },
  "language_info": {
   "codemirror_mode": {
    "name": "ipython",
    "version": 3
   },
   "file_extension": ".py",
   "mimetype": "text/x-python",
   "name": "python",
   "nbconvert_exporter": "python",
   "pygments_lexer": "ipython3",
   "version": "3.7.4"
  }
 },
 "nbformat": 4,
 "nbformat_minor": 4
}
