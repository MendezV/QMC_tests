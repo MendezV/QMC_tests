{
 "cells": [
  {
   "cell_type": "code",
   "execution_count": 1,
   "metadata": {},
   "outputs": [],
   "source": [
    "import numpy as np\n",
    "import matplotlib.pyplot as plt\n",
    "import seaborn as sns\n",
    "import os\n",
    "\n"
   ]
  },
  {
   "cell_type": "markdown",
   "metadata": {},
   "source": [
    "# Bins"
   ]
  },
  {
   "cell_type": "code",
   "execution_count": 13,
   "metadata": {},
   "outputs": [
    {
     "name": "stdout",
     "output_type": "stream",
     "text": [
      "Real... Bins .. 4\n",
      "y... 0.0\n",
      "[0.0834064  0.00179555 0.0834064  0.08956651]\n",
      "Real... Bins .. 6\n",
      "y... 0.0\n",
      "[0.0819037  0.00251989 0.0819037  0.09082586]\n",
      "Real... Bins .. 8\n",
      "y... 0.0\n",
      "[0.08204518 0.00287588 0.08204518 0.08994771]\n",
      "Real... Bins .. 10\n",
      "y... 0.0\n",
      "[0.08294405 0.00213041 0.08294405 0.09057356]\n"
     ]
    },
    {
     "data": {
      "image/png": "[encoded data removed]",
      "text/plain": [
       "<Figure size 432x288 with 1 Axes>"
      ]
     },
     "metadata": {
      "needs_background": "light"
     },
     "output_type": "display_data"
    }
   ],
   "source": [
    "\n",
    "#path='/home/juan/Programs/ALF/pyALF/Scripts/ALF_data'\n",
    "Options=['SpinZ_tauJ','SpinXY_tauJ','SpinT_tauJ','Green_tauJ','Den_tauJ','Current_tauJ']\n",
    "RK=['R','K']\n",
    "LATSZ=[4,6,8,10]\n",
    "#path_pr='/Users/jfmv/Documents/Proyectos/QMC_tests/H_current/data/'\n",
    "path_pr='/home/juan/Documents/Projects/QMC_tests/H_current/data/'\n",
    "path_pr=path_pr+'binsweeps_2021-06-02-14-04-59/binsweeps_'\n",
    "\n",
    "\n",
    "for i in LATSZ:\n",
    "    path=path_pr+str(i)+'/'\n",
    "    filename=path+Options[-2]+RK[1]\n",
    "    f=open(filename, 'r')\n",
    "\n",
    "    lines=[]\n",
    "    for line in f:\n",
    "        l=[]\n",
    "        l=[float(i) for i in (line.strip()).split()]\n",
    "        lines.append(l)\n",
    "        #print(line,'s')\n",
    "\n",
    "    ##processing coordinates\n",
    "    xx=np.array(lines)[:,0]\n",
    "    yy=np.array(lines)[:,1]\n",
    "    x=list(set(list(np.array(lines)[:,0])))\n",
    "    y=list(set(list(np.array(lines)[:,1])))\n",
    "    x.sort()\n",
    "    y.sort()\n",
    "    xpl=[round(i,3) for i in x]\n",
    "    ypl=[round(i,3) for i in y]\n",
    "\n",
    "    ## getting values if the correlation functions\n",
    "    real=np.array(lines)[:,2]\n",
    "    realerr=np.array(lines)[:,3]\n",
    "    im=np.array(lines)[:,4]\n",
    "    imerr=np.array(lines)[:,5]\n",
    "\n",
    "    \"\"\"\n",
    "    ##plots\n",
    "    print(\"Imaginary...\",i,\"x\",i)\n",
    "    NL=int(np.sqrt(np.size(xx)))\n",
    "    Npl=np.arange(NL)\n",
    "    imsq=np.reshape(im,[NL,NL])\n",
    "    imerrsq=np.reshape(imerr,[NL,NL])\n",
    "    plt.imshow(imsq)\n",
    "    plt.xticks(Npl,xpl)\n",
    "    plt.yticks(Npl,ypl)\n",
    "    plt.show()\n",
    "    \n",
    "    i_tr=int(NL/2 -1)\n",
    "    print('x...',xpl[i_tr])\n",
    "    plt.errorbar(ypl,imsq[i_tr,:],imsq[i_tr,:], fmt='o')\n",
    "    plt.show()\n",
    "    \n",
    "    j_tr=int(NL/2 -1)\n",
    "    print('y...',ypl[j_tr])\n",
    "    plt.errorbar(xpl,imsq[:,j_tr],imsq[:,j_tr], fmt='o')\n",
    "    plt.show()\n",
    "    \n",
    "    print(\"Real...\",i,\"x\",i)\n",
    "    NL=int(np.sqrt(np.size(xx)))\n",
    "    Npl=np.arange(NL)\n",
    "    realsq=np.reshape(real,[NL,NL])\n",
    "    realerrsq=np.reshape(realerr,[NL,NL])\n",
    "    plt.imshow(realsq)\n",
    "    plt.xticks(Npl,xpl)\n",
    "    plt.yticks(Npl,ypl)\n",
    "    plt.show()\n",
    "    \n",
    "    i_tr=int(NL/2 -1)\n",
    "    print('x...',xpl[i_tr])\n",
    "    plt.errorbar(ypl,realsq[i_tr,:],realsq[i_tr,:], fmt='o')\n",
    "    plt.show()\n",
    "    \"\"\"\n",
    "    \n",
    "    print(\"Real...\",\"Bins ..\",i)\n",
    "    NL=int(np.sqrt(np.size(xx)))\n",
    "    Npl=np.arange(NL)\n",
    "    realsq=np.reshape(real,[NL,NL])\n",
    "    realerrsq=np.reshape(realerr,[NL,NL])\n",
    "    \n",
    "    j_tr=int(NL/2 -1)\n",
    "    print('y...',ypl[j_tr])\n",
    "    plt.errorbar(xpl,realsq[:,j_tr],realsq[:,j_tr], fmt='o')\n",
    "    #plt.show()\n",
    "    print(realsq[:,j_tr])\n",
    "    "
   ]
  },
  {
   "cell_type": "markdown",
   "metadata": {},
   "source": [
    "# NSweeps"
   ]
  },
  {
   "cell_type": "code",
   "execution_count": 12,
   "metadata": {},
   "outputs": [
    {
     "name": "stdout",
     "output_type": "stream",
     "text": [
      "Real... Sweeps .. 50\n",
      "y... 0.0\n",
      "[ 8.367809e-02 -8.362000e-05  8.367809e-02  8.644480e-02]\n",
      "Real... Sweeps .. 100\n",
      "y... 0.0\n",
      "[0.08397825 0.00120645 0.08397825 0.08818064]\n",
      "Real... Sweeps .. 200\n",
      "y... 0.0\n",
      "[0.07899661 0.00274162 0.07899661 0.08912292]\n",
      "Real... Sweeps .. 400\n",
      "y... 0.0\n",
      "[0.08298252 0.00228832 0.08298252 0.09101284]\n"
     ]
    },
    {
     "data": {
      "image/png": "[encoded data removed]",
      "text/plain": [
       "<Figure size 432x288 with 1 Axes>"
      ]
     },
     "metadata": {
      "needs_background": "light"
     },
     "output_type": "display_data"
    }
   ],
   "source": [
    "\n",
    "#path='/home/juan/Programs/ALF/pyALF/Scripts/ALF_data'\n",
    "Options=['SpinZ_tauJ','SpinXY_tauJ','SpinT_tauJ','Green_tauJ','Den_tauJ','Current_tauJ']\n",
    "RK=['R','K']\n",
    "LATSZ=[50,100,200,400]\n",
    "#path_pr='/Users/jfmv/Documents/Proyectos/QMC_tests/H_current/data/'\n",
    "path_pr='/home/juan/Documents/Projects/QMC_tests/H_current/data/'\n",
    "path_pr=path_pr+'nsweeps_2021-06-02-14-13-27/nsweeps_'\n",
    "\n",
    "\n",
    "for i in LATSZ:\n",
    "    path=path_pr+str(i)+'/'\n",
    "    filename=path+Options[-2]+RK[1]\n",
    "    f=open(filename, 'r')\n",
    "\n",
    "    lines=[]\n",
    "    for line in f:\n",
    "        l=[]\n",
    "        l=[float(i) for i in (line.strip()).split()]\n",
    "        lines.append(l)\n",
    "        #print(line,'s')\n",
    "\n",
    "    ##processing coordinates\n",
    "    xx=np.array(lines)[:,0]\n",
    "    yy=np.array(lines)[:,1]\n",
    "    x=list(set(list(np.array(lines)[:,0])))\n",
    "    y=list(set(list(np.array(lines)[:,1])))\n",
    "    x.sort()\n",
    "    y.sort()\n",
    "    xpl=[round(i,3) for i in x]\n",
    "    ypl=[round(i,3) for i in y]\n",
    "\n",
    "    ## getting values if the correlation functions\n",
    "    real=np.array(lines)[:,2]\n",
    "    realerr=np.array(lines)[:,3]\n",
    "    im=np.array(lines)[:,4]\n",
    "    imerr=np.array(lines)[:,5]\n",
    "\n",
    "    \"\"\"\n",
    "    ##plots\n",
    "    print(\"Imaginary...\",i,\"x\",i)\n",
    "    NL=int(np.sqrt(np.size(xx)))\n",
    "    Npl=np.arange(NL)\n",
    "    imsq=np.reshape(im,[NL,NL])\n",
    "    imerrsq=np.reshape(imerr,[NL,NL])\n",
    "    plt.imshow(imsq)\n",
    "    plt.xticks(Npl,xpl)\n",
    "    plt.yticks(Npl,ypl)\n",
    "    plt.show()\n",
    "    \n",
    "    i_tr=int(NL/2 -1)\n",
    "    print('x...',xpl[i_tr])\n",
    "    plt.errorbar(ypl,imsq[i_tr,:],imsq[i_tr,:], fmt='o')\n",
    "    plt.show()\n",
    "    \n",
    "    j_tr=int(NL/2 -1)\n",
    "    print('y...',ypl[j_tr])\n",
    "    plt.errorbar(xpl,imsq[:,j_tr],imsq[:,j_tr], fmt='o')\n",
    "    plt.show()\n",
    "    \n",
    "    print(\"Real...\",i,\"x\",i)\n",
    "    NL=int(np.sqrt(np.size(xx)))\n",
    "    Npl=np.arange(NL)\n",
    "    realsq=np.reshape(real,[NL,NL])\n",
    "    realerrsq=np.reshape(realerr,[NL,NL])\n",
    "    plt.imshow(realsq)\n",
    "    plt.xticks(Npl,xpl)\n",
    "    plt.yticks(Npl,ypl)\n",
    "    plt.show()\n",
    "    \n",
    "    i_tr=int(NL/2 -1)\n",
    "    print('x...',xpl[i_tr])\n",
    "    plt.errorbar(ypl,realsq[i_tr,:],realsq[i_tr,:], fmt='o')\n",
    "    plt.show()\n",
    "    \"\"\"\n",
    "    \n",
    "    print(\"Real...\",\"Sweeps ..\",i)\n",
    "    NL=int(np.sqrt(np.size(xx)))\n",
    "    Npl=np.arange(NL)\n",
    "    realsq=np.reshape(real,[NL,NL])\n",
    "    realerrsq=np.reshape(realerr,[NL,NL])\n",
    "    \n",
    "    j_tr=int(NL/2 -1)\n",
    "    print('y...',ypl[j_tr])\n",
    "    plt.errorbar(xpl,realsq[:,j_tr],realsq[:,j_tr], fmt='o')\n",
    "    #plt.show()\n",
    "    print(realsq[:,j_tr])\n",
    "       "
   ]
  },
  {
   "cell_type": "code",
   "execution_count": null,
   "metadata": {},
   "outputs": [],
   "source": []
  },
  {
   "cell_type": "markdown",
   "metadata": {},
   "source": [
    "A more extreme version of this"
   ]
  },
  {
   "cell_type": "code",
   "execution_count": 35,
   "metadata": {},
   "outputs": [
    {
     "name": "stdout",
     "output_type": "stream",
     "text": [
      "Real... Bins .. 4 Sweeps...200\n",
      "y... 0.0\n",
      "[0.00172712 0.00057065 0.00172712 0.00179428]\n",
      "Real... Bins .. 6 Sweeps...200\n",
      "y... 0.0\n",
      "[0.00508866 0.0009023  0.00508866 0.0021395 ]\n",
      "Real... Bins .. 8 Sweeps...200\n",
      "y... 0.0\n",
      "[0.00394097 0.00075151 0.00394097 0.00180843]\n",
      "Real... Bins .. 10 Sweeps...200\n",
      "y... 0.0\n",
      "[0.00305865 0.00094455 0.00305865 0.00143413]\n",
      "Real... Bins .. 15 Sweeps...200\n",
      "y... 0.0\n",
      "[0.0025634  0.00063636 0.0025634  0.00509076]\n",
      "Real... Bins .. 20 Sweeps...200\n",
      "y... 0.0\n",
      "[0.00192583 0.00050262 0.00192583 0.00374071]\n",
      "Real... Bins .. 25 Sweeps...200\n",
      "y... 0.0\n",
      "[0.00155651 0.00043035 0.00155651 0.00302374]\n"
     ]
    },
    {
     "data": {
      "image/png": "[encoded data removed]",
      "text/plain": [
       "<Figure size 432x288 with 1 Axes>"
      ]
     },
     "metadata": {
      "needs_background": "light"
     },
     "output_type": "display_data"
    }
   ],
   "source": [
    "\n",
    "#path='/home/juan/Programs/ALF/pyALF/Scripts/ALF_data'\n",
    "Options=['SpinZ_tauJ','SpinXY_tauJ','SpinT_tauJ','Green_tauJ','Den_tauJ','Current_tauJ']\n",
    "RK=['R','K']\n",
    "LATSZ=[4,6,8,10,15,20,25]\n",
    "#path_pr='/Users/jfmv/Documents/Proyectos/QMC_tests/H_current/data/'\n",
    "path_pr='/home/juan/Documents/Projects/QMC_tests/H_current/data/'\n",
    "path_pr=path_pr+'binsweeps_2021-06-02-15-48-38/binsweeps_'\n",
    "\n",
    "ss=[]\n",
    "for i in LATSZ:\n",
    "    path=path_pr+str(i)+'/'\n",
    "    filename=path+Options[-2]+RK[1]\n",
    "    f=open(filename, 'r')\n",
    "\n",
    "    lines=[]\n",
    "    for line in f:\n",
    "        l=[]\n",
    "        l=[float(i) for i in (line.strip()).split()]\n",
    "        lines.append(l)\n",
    "        #print(line,'s')\n",
    "\n",
    "    ##processing coordinates\n",
    "    xx=np.array(lines)[:,0]\n",
    "    yy=np.array(lines)[:,1]\n",
    "    x=list(set(list(np.array(lines)[:,0])))\n",
    "    y=list(set(list(np.array(lines)[:,1])))\n",
    "    x.sort()\n",
    "    y.sort()\n",
    "    xpl=[round(i,3) for i in x]\n",
    "    ypl=[round(i,3) for i in y]\n",
    "\n",
    "    ## getting values if the correlation functions\n",
    "    real=np.array(lines)[:,2]\n",
    "    realerr=np.array(lines)[:,3]\n",
    "    im=np.array(lines)[:,4]\n",
    "    imerr=np.array(lines)[:,5]\n",
    "\n",
    "    \"\"\"\n",
    "    ##plots\n",
    "    print(\"Imaginary...\",i,\"x\",i)\n",
    "    NL=int(np.sqrt(np.size(xx)))\n",
    "    Npl=np.arange(NL)\n",
    "    imsq=np.reshape(im,[NL,NL])\n",
    "    imerrsq=np.reshape(imerr,[NL,NL])\n",
    "    plt.imshow(imsq)\n",
    "    plt.xticks(Npl,xpl)\n",
    "    plt.yticks(Npl,ypl)\n",
    "    plt.show()\n",
    "    \n",
    "    i_tr=int(NL/2 -1)\n",
    "    print('x...',xpl[i_tr])\n",
    "    plt.errorbar(ypl,imsq[i_tr,:],imsq[i_tr,:], fmt='o')\n",
    "    plt.show()\n",
    "    \n",
    "    j_tr=int(NL/2 -1)\n",
    "    print('y...',ypl[j_tr])\n",
    "    plt.errorbar(xpl,imsq[:,j_tr],imsq[:,j_tr], fmt='o')\n",
    "    plt.show()\n",
    "    \n",
    "    print(\"Real...\",i,\"x\",i)\n",
    "    NL=int(np.sqrt(np.size(xx)))\n",
    "    Npl=np.arange(NL)\n",
    "    realsq=np.reshape(real,[NL,NL])\n",
    "    realerrsq=np.reshape(realerr,[NL,NL])\n",
    "    plt.imshow(realsq)\n",
    "    plt.xticks(Npl,xpl)\n",
    "    plt.yticks(Npl,ypl)\n",
    "    plt.show()\n",
    "    \n",
    "    i_tr=int(NL/2 -1)\n",
    "    print('x...',xpl[i_tr])\n",
    "    plt.errorbar(ypl,realsq[i_tr,:],realsq[i_tr,:], fmt='o')\n",
    "    plt.show()\n",
    "    \"\"\"\n",
    "    \n",
    "    print(\"Real...\",\"Bins ..\",i, \"Sweeps...200\")\n",
    "    NL=int(np.sqrt(np.size(xx)))\n",
    "    Npl=np.arange(NL)\n",
    "    realsq=np.reshape(real,[NL,NL])\n",
    "    realerrsq=np.reshape(realerr,[NL,NL])\n",
    "    \n",
    "    j_tr=int(NL/2 -1)\n",
    "    print('y...',ypl[j_tr])\n",
    "    plt.errorbar(xpl,realsq[:,j_tr],realerrsq[:,j_tr], fmt='o')\n",
    "    #plt.show()\n",
    "    print(realerrsq[:,j_tr])\n",
    "    ss.append(realerrsq[0,j_tr])\n",
    "    "
   ]
  },
  {
   "cell_type": "code",
   "execution_count": 36,
   "metadata": {},
   "outputs": [
    {
     "name": "stdout",
     "output_type": "stream",
     "text": [
      "Imag... Bins .. 4 Sweeps...200\n",
      "y... 0.0\n",
      "[0.00030515 0.         0.00030515 0.        ]\n",
      "Imag... Bins .. 6 Sweeps...200\n",
      "y... 0.0\n",
      "[0.00052476 0.         0.00052476 0.        ]\n",
      "Imag... Bins .. 8 Sweeps...200\n",
      "y... 0.0\n",
      "[0.0009598 0.        0.0009598 0.       ]\n",
      "Imag... Bins .. 10 Sweeps...200\n",
      "y... 0.0\n",
      "[0.00080655 0.         0.00080655 0.        ]\n",
      "Imag... Bins .. 15 Sweeps...200\n",
      "y... 0.0\n",
      "[0.00091117 0.         0.00091117 0.        ]\n",
      "Imag... Bins .. 20 Sweeps...200\n",
      "y... 0.0\n",
      "[0.00069541 0.         0.00069541 0.        ]\n",
      "Imag... Bins .. 25 Sweeps...200\n",
      "y... 0.0\n",
      "[0.00063876 0.         0.00063876 0.        ]\n"
     ]
    },
    {
     "data": {
      "image/png": "[encoded data removed]",
      "text/plain": [
       "<Figure size 432x288 with 1 Axes>"
      ]
     },
     "metadata": {
      "needs_background": "light"
     },
     "output_type": "display_data"
    }
   ],
   "source": [
    "\n",
    "#path='/home/juan/Programs/ALF/pyALF/Scripts/ALF_data'\n",
    "Options=['SpinZ_tauJ','SpinXY_tauJ','SpinT_tauJ','Green_tauJ','Den_tauJ','Current_tauJ']\n",
    "RK=['R','K']\n",
    "LATSZ=[4,6,8,10,15,20,25]\n",
    "#path_pr='/Users/jfmv/Documents/Proyectos/QMC_tests/H_current/data/'\n",
    "path_pr='/home/juan/Documents/Projects/QMC_tests/H_current/data/'\n",
    "path_pr=path_pr+'binsweeps_2021-06-02-15-48-38/binsweeps_'\n",
    "\n",
    "\n",
    "for i in LATSZ:\n",
    "    path=path_pr+str(i)+'/'\n",
    "    filename=path+Options[-2]+RK[1]\n",
    "    f=open(filename, 'r')\n",
    "\n",
    "    lines=[]\n",
    "    for line in f:\n",
    "        l=[]\n",
    "        l=[float(i) for i in (line.strip()).split()]\n",
    "        lines.append(l)\n",
    "        #print(line,'s')\n",
    "\n",
    "    ##processing coordinates\n",
    "    xx=np.array(lines)[:,0]\n",
    "    yy=np.array(lines)[:,1]\n",
    "    x=list(set(list(np.array(lines)[:,0])))\n",
    "    y=list(set(list(np.array(lines)[:,1])))\n",
    "    x.sort()\n",
    "    y.sort()\n",
    "    xpl=[round(i,3) for i in x]\n",
    "    ypl=[round(i,3) for i in y]\n",
    "\n",
    "    ## getting values if the correlation functions\n",
    "    real=np.array(lines)[:,2]\n",
    "    realerr=np.array(lines)[:,3]\n",
    "    im=np.array(lines)[:,4]\n",
    "    imerr=np.array(lines)[:,5]\n",
    "\n",
    "    \"\"\"\n",
    "    ##plots\n",
    "    print(\"Imaginary...\",i,\"x\",i)\n",
    "    NL=int(np.sqrt(np.size(xx)))\n",
    "    Npl=np.arange(NL)\n",
    "    imsq=np.reshape(im,[NL,NL])\n",
    "    imerrsq=np.reshape(imerr,[NL,NL])\n",
    "    plt.imshow(imsq)\n",
    "    plt.xticks(Npl,xpl)\n",
    "    plt.yticks(Npl,ypl)\n",
    "    plt.show()\n",
    "    \n",
    "    i_tr=int(NL/2 -1)\n",
    "    print('x...',xpl[i_tr])\n",
    "    plt.errorbar(ypl,imsq[i_tr,:],imsq[i_tr,:], fmt='o')\n",
    "    plt.show()\n",
    "    \n",
    "    j_tr=int(NL/2 -1)\n",
    "    print('y...',ypl[j_tr])\n",
    "    plt.errorbar(xpl,imsq[:,j_tr],imsq[:,j_tr], fmt='o')\n",
    "    plt.show()\n",
    "    \n",
    "    print(\"Real...\",i,\"x\",i)\n",
    "    NL=int(np.sqrt(np.size(xx)))\n",
    "    Npl=np.arange(NL)\n",
    "    realsq=np.reshape(real,[NL,NL])\n",
    "    realerrsq=np.reshape(realerr,[NL,NL])\n",
    "    plt.imshow(realsq)\n",
    "    plt.xticks(Npl,xpl)\n",
    "    plt.yticks(Npl,ypl)\n",
    "    plt.show()\n",
    "    \n",
    "    i_tr=int(NL/2 -1)\n",
    "    print('x...',xpl[i_tr])\n",
    "    plt.errorbar(ypl,realsq[i_tr,:],realsq[i_tr,:], fmt='o')\n",
    "    plt.show()\n",
    "    \"\"\"\n",
    "    \n",
    "    print(\"Imag...\",\"Bins ..\",i, \"Sweeps...200\")\n",
    "    NL=int(np.sqrt(np.size(xx)))\n",
    "    Npl=np.arange(NL)\n",
    "    imsq=np.reshape(im,[NL,NL])\n",
    "    imerrsq=np.reshape(imerr,[NL,NL])\n",
    "    \n",
    "    j_tr=int(NL/2 -1)\n",
    "    print('y...',ypl[j_tr])\n",
    "    plt.errorbar(xpl,imsq[:,j_tr],imsq[:,j_tr], fmt='o')\n",
    "    #plt.show()\n",
    "    print(imerrsq[:,j_tr])\n",
    "    \n",
    "    "
   ]
  },
  {
   "cell_type": "code",
   "execution_count": 41,
   "metadata": {},
   "outputs": [
    {
     "data": {
      "text/plain": [
       "[<matplotlib.lines.Line2D at 0x7f861087b510>]"
      ]
     },
     "execution_count": 41,
     "metadata": {},
     "output_type": "execute_result"
    },
    {
     "data": {
      "image/png": "[encoded data removed]",
      "text/plain": [
       "<Figure size 432x288 with 1 Axes>"
      ]
     },
     "metadata": {
      "needs_background": "light"
     },
     "output_type": "display_data"
    }
   ],
   "source": [
    "plt.plot(LATSZ,ss,'o')\n",
    "plt.plot(LATSZ,(ss[2]*np.sqrt(LATSZ[2]))/np.sqrt(LATSZ))"
   ]
  },
  {
   "cell_type": "code",
   "execution_count": null,
   "metadata": {},
   "outputs": [],
   "source": []
  },
  {
   "cell_type": "code",
   "execution_count": null,
   "metadata": {},
   "outputs": [],
   "source": []
  },
  {
   "cell_type": "code",
   "execution_count": null,
   "metadata": {},
   "outputs": [],
   "source": []
  },
  {
   "cell_type": "code",
   "execution_count": null,
   "metadata": {},
   "outputs": [],
   "source": []
  },
  {
   "cell_type": "code",
   "execution_count": null,
   "metadata": {},
   "outputs": [],
   "source": []
  },
  {
   "cell_type": "code",
   "execution_count": null,
   "metadata": {},
   "outputs": [],
   "source": []
  },
  {
   "cell_type": "code",
   "execution_count": null,
   "metadata": {},
   "outputs": [],
   "source": []
  }
 ],
 "metadata": {
  "kernelspec": {
   "display_name": "Python 3",
   "language": "python",
   "name": "python3"
  },
  "language_info": {
   "codemirror_mode": {
    "name": "ipython",
    "version": 3
   },
   "file_extension": ".py",
   "mimetype": "text/x-python",
   "name": "python",
   "nbconvert_exporter": "python",
   "pygments_lexer": "ipython3",
   "version": "3.7.6"
  }
 },
 "nbformat": 4,
 "nbformat_minor": 4
}
