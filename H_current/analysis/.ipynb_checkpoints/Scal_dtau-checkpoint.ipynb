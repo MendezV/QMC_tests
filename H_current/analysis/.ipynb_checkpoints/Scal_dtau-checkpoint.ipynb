{
 "cells": [
  {
   "cell_type": "code",
   "execution_count": 2,
   "metadata": {},
   "outputs": [],
   "source": [
    "import os\n",
    "import numpy as np                       # Numerical library\n",
    "from scipy.optimize import curve_fit     # Numerical library\n",
    "import matplotlib.pyplot as plt          # Plotting library"
   ]
  },
  {
   "cell_type": "code",
   "execution_count": 51,
   "metadata": {},
   "outputs": [
    {
     "name": "stdout",
     "output_type": "stream",
     "text": [
      "-30.647968 0.134945 1.000000 0.000000\n",
      "-30.891090 0.115618 1.000000 0.000000\n",
      "-30.901878 0.103427 1.000000 0.000000\n"
     ]
    },
    {
     "data": {
      "text/plain": [
       "<matplotlib.legend.Legend at 0x7f86534ce3d0>"
      ]
     },
     "execution_count": 51,
     "metadata": {},
     "output_type": "execute_result"
    },
    {
     "data": {
      "image/png": "[encoded data removed]",
      "text/plain": [
       "<Figure size 432x288 with 1 Axes>"
      ]
     },
     "metadata": {
      "needs_background": "light"
     },
     "output_type": "display_data"
    }
   ],
   "source": [
    "Options=['Kin_scalJ','Ener_scalJ','Kin_X_scalJ','Part_scalJ', 'Pot_scalJ']\n",
    "RK=['R','K']\n",
    "DTAU=np.array([0.125,0.1,0.05])\n",
    "val_list=[]\n",
    "err_list=[]\n",
    "sign_list=[]\n",
    "errsign_list=[]\n",
    "\n",
    "choose=1\n",
    "\n",
    "for i in DTAU:\n",
    "    #path='/Users/jfmv/Documents/Proyectos/QMC_tests/H_current/data'\n",
    "    path='/home/juan/Documents/Projects/QMC_tests/H_current/data'\n",
    "    path=path+\"/66_current_scal_test_2021-06-01-20-19-09/66_current_scal_test_\"\n",
    "    #path=path+'44_current_test_2021-06-01-14-00-08/44_current_test_'\n",
    "    path=path+str(i)+'/'\n",
    "\n",
    "    filename=path+Options[choose]\n",
    "    f=open(filename, 'r')\n",
    "\n",
    "    lines=[]\n",
    "    for line in f:\n",
    "        l=[]\n",
    "        l=[i for i in (line.strip()).split()]\n",
    "        lines.append(l)\n",
    "        #print(line,'s')\n",
    "    \n",
    "    \n",
    "    val=lines[2][3]\n",
    "    err=lines[2][4]\n",
    "    sign=lines[4][3]\n",
    "    errsign=lines[4][4]\n",
    "    \n",
    "    val_list.append(val)\n",
    "    err_list.append(err)\n",
    "    sign_list.append(sign)\n",
    "    errsign_list.append(errsign)\n",
    "\n",
    "    print(val,err,sign,errsign)\n",
    "    \n",
    "val_arr=np.array(val_list,dtype=np.float)\n",
    "err_arr=np.array(err_list,dtype=np.float)\n",
    "sign_arr=np.array(sign_list,dtype=np.float)\n",
    "errsign_arr=np.array(errsign_list,dtype=np.float)\n",
    "\n",
    "########################\n",
    "#Plotting the quantity as a function of dtau and performing the extrapolation\n",
    "\n",
    "plt.figure()\n",
    "plt.xlabel(r'$\\Delta \\tau^2$')\n",
    "plt.ylabel('Energy')\n",
    "plt.errorbar(DTAU**2, val_arr, err_arr, fmt='.', label=\"Monte carlo results \"+Options[choose])\n",
    "\n",
    "def func(x, y0, a):\n",
    "    return y0 + a*x**2\n",
    "popt, pcov = curve_fit(func, DTAU, val_arr, sigma=err_arr, absolute_sigma=True)\n",
    "perr = np.sqrt(np.diag(pcov))\n",
    "xs = np.linspace(0., DTAU.max())\n",
    "p = plt.plot(xs**2, func(xs, *popt))\n",
    "\n",
    "plt.errorbar(0, popt[0], perr[0], label=\"Extrapolated value\", color=p[0].get_color())\n",
    "plt.legend()"
   ]
  },
  {
   "cell_type": "code",
   "execution_count": 52,
   "metadata": {},
   "outputs": [
    {
     "name": "stdout",
     "output_type": "stream",
     "text": [
      "-24.389398 0.279809 1.000000 0.000000\n",
      "-24.266408 0.366391 1.000000 0.000000\n",
      "-24.051553 0.326295 1.000000 0.000000\n"
     ]
    },
    {
     "data": {
      "text/plain": [
       "<matplotlib.legend.Legend at 0x7f865383b850>"
      ]
     },
     "execution_count": 52,
     "metadata": {},
     "output_type": "execute_result"
    },
    {
     "data": {
      "image/png": "[encoded data removed]",
      "text/plain": [
       "<Figure size 432x288 with 1 Axes>"
      ]
     },
     "metadata": {
      "needs_background": "light"
     },
     "output_type": "display_data"
    }
   ],
   "source": [
    "Options=['Kin_scalJ','Ener_scalJ','Kin_X_scalJ','Part_scalJ', 'Pot_scalJ']\n",
    "RK=['R','K']\n",
    "DTAU=np.array([0.125,0.1,0.05])\n",
    "val_list=[]\n",
    "err_list=[]\n",
    "sign_list=[]\n",
    "errsign_list=[]\n",
    "\n",
    "choose=2\n",
    "\n",
    "for i in DTAU:\n",
    "    #path='/Users/jfmv/Documents/Proyectos/QMC_tests/H_current/data'\n",
    "    path='/home/juan/Documents/Projects/QMC_tests/H_current/data'\n",
    "    path=path+\"/66_current_scal_test_2021-06-01-20-19-09/66_current_scal_test_\"\n",
    "    #path=path+'44_current_test_2021-06-01-14-00-08/44_current_test_'\n",
    "    path=path+str(i)+'/'\n",
    "\n",
    "    filename=path+Options[choose]\n",
    "    f=open(filename, 'r')\n",
    "\n",
    "    lines=[]\n",
    "    for line in f:\n",
    "        l=[]\n",
    "        l=[i for i in (line.strip()).split()]\n",
    "        lines.append(l)\n",
    "        #print(line,'s')\n",
    "    \n",
    "    \n",
    "    val=lines[2][3]\n",
    "    err=lines[2][4]\n",
    "    sign=lines[4][3]\n",
    "    errsign=lines[4][4]\n",
    "    \n",
    "    val_list.append(val)\n",
    "    err_list.append(err)\n",
    "    sign_list.append(sign)\n",
    "    errsign_list.append(errsign)\n",
    "\n",
    "    print(val,err,sign,errsign)\n",
    "    \n",
    "val_arr=np.array(val_list,dtype=np.float)\n",
    "err_arr=np.array(err_list,dtype=np.float)\n",
    "sign_arr=np.array(sign_list,dtype=np.float)\n",
    "errsign_arr=np.array(errsign_list,dtype=np.float)\n",
    "\n",
    "########################\n",
    "#Plotting the quantity as a function of dtau and performing the extrapolation\n",
    "\n",
    "plt.figure()\n",
    "plt.xlabel(r'$\\Delta \\tau^2$')\n",
    "plt.ylabel('Energy')\n",
    "plt.errorbar(DTAU**2, val_arr, err_arr, fmt='.', label=\"Monte carlo results \"+Options[choose])\n",
    "\n",
    "def func(x, y0, a):\n",
    "    return y0 + a*x**2\n",
    "popt, pcov = curve_fit(func, DTAU, val_arr, sigma=err_arr, absolute_sigma=True)\n",
    "perr = np.sqrt(np.diag(pcov))\n",
    "xs = np.linspace(0., DTAU.max())\n",
    "p = plt.plot(xs**2, func(xs, *popt))\n",
    "\n",
    "plt.errorbar(0, popt[0], perr[0], label=\"Extrapolated value\", color=p[0].get_color())\n",
    "plt.legend()"
   ]
  },
  {
   "cell_type": "code",
   "execution_count": 53,
   "metadata": {},
   "outputs": [
    {
     "name": "stdout",
     "output_type": "stream",
     "text": [
      "-48.555581 0.096650 1.000000 0.000000\n",
      "-48.689583 0.080663 1.000000 0.000000\n",
      "-48.661214 0.223493 1.000000 0.000000\n"
     ]
    },
    {
     "data": {
      "text/plain": [
       "<matplotlib.legend.Legend at 0x7f86528e5fd0>"
      ]
     },
     "execution_count": 53,
     "metadata": {},
     "output_type": "execute_result"
    },
    {
     "data": {
      "image/png": "[encoded data removed]",
      "text/plain": [
       "<Figure size 432x288 with 1 Axes>"
      ]
     },
     "metadata": {
      "needs_background": "light"
     },
     "output_type": "display_data"
    }
   ],
   "source": [
    "Options=['Kin_scalJ','Ener_scalJ','Kin_X_scalJ','Part_scalJ', 'Pot_scalJ']\n",
    "RK=['R','K']\n",
    "DTAU=np.array([0.125,0.1,0.05])\n",
    "val_list=[]\n",
    "err_list=[]\n",
    "sign_list=[]\n",
    "errsign_list=[]\n",
    "\n",
    "choose=0\n",
    "\n",
    "for i in DTAU:\n",
    "    #path='/Users/jfmv/Documents/Proyectos/QMC_tests/H_current/data'\n",
    "    path='/home/juan/Documents/Projects/QMC_tests/H_current/data'\n",
    "    path=path+\"/66_current_scal_test_2021-06-01-20-19-09/66_current_scal_test_\"\n",
    "    #path=path+'44_current_test_2021-06-01-14-00-08/44_current_test_'\n",
    "    path=path+str(i)+'/'\n",
    "\n",
    "    filename=path+Options[choose]\n",
    "    f=open(filename, 'r')\n",
    "\n",
    "    lines=[]\n",
    "    for line in f:\n",
    "        l=[]\n",
    "        l=[i for i in (line.strip()).split()]\n",
    "        lines.append(l)\n",
    "        #print(line,'s')\n",
    "    \n",
    "    \n",
    "    val=lines[2][3]\n",
    "    err=lines[2][4]\n",
    "    sign=lines[4][3]\n",
    "    errsign=lines[4][4]\n",
    "    \n",
    "    val_list.append(val)\n",
    "    err_list.append(err)\n",
    "    sign_list.append(sign)\n",
    "    errsign_list.append(errsign)\n",
    "\n",
    "    print(val,err,sign,errsign)\n",
    "    \n",
    "val_arr=np.array(val_list,dtype=np.float)\n",
    "err_arr=np.array(err_list,dtype=np.float)\n",
    "sign_arr=np.array(sign_list,dtype=np.float)\n",
    "errsign_arr=np.array(errsign_list,dtype=np.float)\n",
    "\n",
    "########################\n",
    "#Plotting the quantity as a function of dtau and performing the extrapolation\n",
    "\n",
    "plt.figure()\n",
    "plt.xlabel(r'$\\Delta \\tau^2$')\n",
    "plt.ylabel('Energy')\n",
    "plt.errorbar(DTAU**2, val_arr, err_arr, fmt='.', label=\"Monte carlo results \"+Options[choose])\n",
    "\n",
    "def func(x, y0, a):\n",
    "    return y0 + a*x**2\n",
    "popt, pcov = curve_fit(func, DTAU, val_arr, sigma=err_arr, absolute_sigma=True)\n",
    "perr = np.sqrt(np.diag(pcov))\n",
    "xs = np.linspace(0., DTAU.max())\n",
    "p = plt.plot(xs**2, func(xs, *popt))\n",
    "\n",
    "plt.errorbar(0, popt[0], perr[0], label=\"Extrapolated value\", color=p[0].get_color())\n",
    "plt.legend()"
   ]
  },
  {
   "cell_type": "code",
   "execution_count": null,
   "metadata": {},
   "outputs": [],
   "source": []
  }
 ],
 "metadata": {
  "kernelspec": {
   "display_name": "Python 3",
   "language": "python",
   "name": "python3"
  },
  "language_info": {
   "codemirror_mode": {
    "name": "ipython",
    "version": 3
   },
   "file_extension": ".py",
   "mimetype": "text/x-python",
   "name": "python",
   "nbconvert_exporter": "python",
   "pygments_lexer": "ipython3",
   "version": "3.7.6"
  }
 },
 "nbformat": 4,
 "nbformat_minor": 4
}
