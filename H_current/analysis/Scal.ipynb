{
 "cells": [
  {
   "cell_type": "code",
   "execution_count": 2,
   "metadata": {},
   "outputs": [],
   "source": [
    "import os\n",
    "import numpy as np                       # Numerical library\n",
    "from scipy.optimize import curve_fit     # Numerical library\n",
    "import matplotlib.pyplot as plt          # Plotting library"
   ]
  },
  {
   "cell_type": "code",
   "execution_count": null,
   "metadata": {},
   "outputs": [],
   "source": [
    "path=\"../data/66_current_scal_test_2021-06-01-20-19-09/66_current_scal_test_0.05\""
   ]
  },
  {
   "cell_type": "code",
   "execution_count": null,
   "metadata": {},
   "outputs": [],
   "source": [
    "Options=['SpinZ_','SpinXY_','SpinT_','Green_','Den_', 'Current_']\n",
    "RK=['R','K']\n",
    "for i in [2]:\n",
    "    path='/Users/jfmv/Documents/Proyectos/QMC_tests/H_current/data/'\n",
    "    path=path+'44_current_test_2021-06-01-14-00-08/44_current_test_'\n",
    "    path=path+str(i)+'/'\n",
    "\n",
    "    filename=path+'get_names.sh'\n",
    "    f=open(filename, 'w')\n",
    "    f.writelines([\"#!/bin/bash \\n\", \" ls -l \"+path+\"  | grep '^d'|grep '\"+Options[5]+\"' | awk '{print $NF}' > temp.tmp\"])\n",
    "    f.close()\n",
    "    os.system(\"chmod u+x \"+filename)\n",
    "    os.system(\"cd \"+path+\" ;\"+\"./get_names.sh\")\n",
    "\n",
    "    filename=path+'temp.tmp'\n",
    "    f=open(filename, 'r')\n",
    "    lines=[]\n",
    "    for line in f:\n",
    "        lines.append(line.strip())\n",
    "        #print(line,'s')\n",
    "\n",
    "    R0=lines.pop()\n",
    "    f.close()\n",
    "    os.system('rm '+path+'get_names.sh')\n",
    "    os.system('rm '+path+'temp.tmp')\n"
   ]
  },
  {
   "cell_type": "code",
   "execution_count": null,
   "metadata": {},
   "outputs": [],
   "source": [
    "plt.figure()\n",
    "plt.xlabel('$\\Delta\\tau$')\n",
    "plt.ylabel('Energy')\n",
    "plt.errorbar(dtaus**2, ener[:, 0], ener[:, 1], fmt='.', label=\"Monte carlo results\")\n",
    "plt.plot(0, -1.47261997, 'x', label='ED result')\n",
    "\n",
    "def func(x, y0, a):\n",
    "    return y0 + a*x**2\n",
    "popt, pcov = curve_fit(func, dtaus, ener[:, 0], sigma=ener[:, 1], absolute_sigma=True)\n",
    "perr = np.sqrt(np.diag(pcov))\n",
    "xs = np.linspace(0., dtaus.max())\n",
    "p = plt.plot(xs**2, func(xs, *popt))\n",
    "\n",
    "plt.errorbar(0, popt[0], perr[0], label=\"Extrapolated value\", color=p[0].get_color())\n",
    "plt.legend()"
   ]
  }
 ],
 "metadata": {
  "kernelspec": {
   "display_name": "Python 3",
   "language": "python",
   "name": "python3"
  },
  "language_info": {
   "codemirror_mode": {
    "name": "ipython",
    "version": 3
   },
   "file_extension": ".py",
   "mimetype": "text/x-python",
   "name": "python",
   "nbconvert_exporter": "python",
   "pygments_lexer": "ipython3",
   "version": "3.7.6"
  }
 },
 "nbformat": 4,
 "nbformat_minor": 4
}
